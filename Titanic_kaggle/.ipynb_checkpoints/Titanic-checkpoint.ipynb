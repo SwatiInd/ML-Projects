{
 "cells": [
  {
   "cell_type": "markdown",
   "metadata": {},
   "source": [
    "**Getting the Data**"
   ]
  },
  {
   "cell_type": "code",
   "execution_count": 1,
   "metadata": {},
   "outputs": [],
   "source": [
    "import numpy as np\n",
    "import pandas as pd\n",
    "import matplotlib.pyplot as plt\n",
    "from sklearn.impute import SimpleImputer, KNNImputer\n",
    "from sklearn.pipeline import Pipeline\n",
    "from sklearn.preprocessing import StandardScaler, OrdinalEncoder, LabelEncoder, OneHotEncoder\n",
    "from sklearn.compose import ColumnTransformer\n",
    "from sklearn.model_selection import StratifiedShuffleSplit, train_test_split\n",
    "from sklearn.linear_model import LogisticRegression\n",
    "from collections import ChainMap\n",
    "import seaborn as sns\n",
    "sns.set(style=\"ticks\", color_codes=True)\n",
    "# from sklearn.preprocessing import OneHotEncoder\n",
    "# from sklearn.compose import ColumnTransformer\n",
    "from sklearn.base import BaseEstimator, TransformerMixin"
   ]
  },
  {
   "cell_type": "code",
   "execution_count": 2,
   "metadata": {},
   "outputs": [
    {
     "data": {
      "text/plain": [
       "((891, 12), (418, 11))"
      ]
     },
     "execution_count": 2,
     "metadata": {},
     "output_type": "execute_result"
    }
   ],
   "source": [
    "train = pd.read_csv('train.csv')\n",
    "test = pd.read_csv('test.csv')\n",
    "(train.shape, test.shape)"
   ]
  },
  {
   "cell_type": "code",
   "execution_count": 3,
   "metadata": {},
   "outputs": [
    {
     "data": {
      "text/html": [
       "<div>\n",
       "<style scoped>\n",
       "    .dataframe tbody tr th:only-of-type {\n",
       "        vertical-align: middle;\n",
       "    }\n",
       "\n",
       "    .dataframe tbody tr th {\n",
       "        vertical-align: top;\n",
       "    }\n",
       "\n",
       "    .dataframe thead th {\n",
       "        text-align: right;\n",
       "    }\n",
       "</style>\n",
       "<table border=\"1\" class=\"dataframe\">\n",
       "  <thead>\n",
       "    <tr style=\"text-align: right;\">\n",
       "      <th></th>\n",
       "      <th>PassengerId</th>\n",
       "      <th>Survived</th>\n",
       "      <th>Pclass</th>\n",
       "      <th>Name</th>\n",
       "      <th>Sex</th>\n",
       "      <th>Age</th>\n",
       "      <th>SibSp</th>\n",
       "      <th>Parch</th>\n",
       "      <th>Ticket</th>\n",
       "      <th>Fare</th>\n",
       "      <th>Cabin</th>\n",
       "      <th>Embarked</th>\n",
       "    </tr>\n",
       "  </thead>\n",
       "  <tbody>\n",
       "    <tr>\n",
       "      <th>0</th>\n",
       "      <td>1</td>\n",
       "      <td>0</td>\n",
       "      <td>3</td>\n",
       "      <td>Braund, Mr. Owen Harris</td>\n",
       "      <td>male</td>\n",
       "      <td>22.0</td>\n",
       "      <td>1</td>\n",
       "      <td>0</td>\n",
       "      <td>A/5 21171</td>\n",
       "      <td>7.2500</td>\n",
       "      <td>NaN</td>\n",
       "      <td>S</td>\n",
       "    </tr>\n",
       "    <tr>\n",
       "      <th>1</th>\n",
       "      <td>2</td>\n",
       "      <td>1</td>\n",
       "      <td>1</td>\n",
       "      <td>Cumings, Mrs. John Bradley (Florence Briggs Th...</td>\n",
       "      <td>female</td>\n",
       "      <td>38.0</td>\n",
       "      <td>1</td>\n",
       "      <td>0</td>\n",
       "      <td>PC 17599</td>\n",
       "      <td>71.2833</td>\n",
       "      <td>C85</td>\n",
       "      <td>C</td>\n",
       "    </tr>\n",
       "    <tr>\n",
       "      <th>2</th>\n",
       "      <td>3</td>\n",
       "      <td>1</td>\n",
       "      <td>3</td>\n",
       "      <td>Heikkinen, Miss. Laina</td>\n",
       "      <td>female</td>\n",
       "      <td>26.0</td>\n",
       "      <td>0</td>\n",
       "      <td>0</td>\n",
       "      <td>STON/O2. 3101282</td>\n",
       "      <td>7.9250</td>\n",
       "      <td>NaN</td>\n",
       "      <td>S</td>\n",
       "    </tr>\n",
       "    <tr>\n",
       "      <th>3</th>\n",
       "      <td>4</td>\n",
       "      <td>1</td>\n",
       "      <td>1</td>\n",
       "      <td>Futrelle, Mrs. Jacques Heath (Lily May Peel)</td>\n",
       "      <td>female</td>\n",
       "      <td>35.0</td>\n",
       "      <td>1</td>\n",
       "      <td>0</td>\n",
       "      <td>113803</td>\n",
       "      <td>53.1000</td>\n",
       "      <td>C123</td>\n",
       "      <td>S</td>\n",
       "    </tr>\n",
       "    <tr>\n",
       "      <th>4</th>\n",
       "      <td>5</td>\n",
       "      <td>0</td>\n",
       "      <td>3</td>\n",
       "      <td>Allen, Mr. William Henry</td>\n",
       "      <td>male</td>\n",
       "      <td>35.0</td>\n",
       "      <td>0</td>\n",
       "      <td>0</td>\n",
       "      <td>373450</td>\n",
       "      <td>8.0500</td>\n",
       "      <td>NaN</td>\n",
       "      <td>S</td>\n",
       "    </tr>\n",
       "  </tbody>\n",
       "</table>\n",
       "</div>"
      ],
      "text/plain": [
       "   PassengerId  Survived  Pclass  \\\n",
       "0            1         0       3   \n",
       "1            2         1       1   \n",
       "2            3         1       3   \n",
       "3            4         1       1   \n",
       "4            5         0       3   \n",
       "\n",
       "                                                Name     Sex   Age  SibSp  \\\n",
       "0                            Braund, Mr. Owen Harris    male  22.0      1   \n",
       "1  Cumings, Mrs. John Bradley (Florence Briggs Th...  female  38.0      1   \n",
       "2                             Heikkinen, Miss. Laina  female  26.0      0   \n",
       "3       Futrelle, Mrs. Jacques Heath (Lily May Peel)  female  35.0      1   \n",
       "4                           Allen, Mr. William Henry    male  35.0      0   \n",
       "\n",
       "   Parch            Ticket     Fare Cabin Embarked  \n",
       "0      0         A/5 21171   7.2500   NaN        S  \n",
       "1      0          PC 17599  71.2833   C85        C  \n",
       "2      0  STON/O2. 3101282   7.9250   NaN        S  \n",
       "3      0            113803  53.1000  C123        S  \n",
       "4      0            373450   8.0500   NaN        S  "
      ]
     },
     "execution_count": 3,
     "metadata": {},
     "output_type": "execute_result"
    }
   ],
   "source": [
    "train.head()"
   ]
  },
  {
   "cell_type": "code",
   "execution_count": 4,
   "metadata": {},
   "outputs": [
    {
     "data": {
      "text/html": [
       "<div>\n",
       "<style scoped>\n",
       "    .dataframe tbody tr th:only-of-type {\n",
       "        vertical-align: middle;\n",
       "    }\n",
       "\n",
       "    .dataframe tbody tr th {\n",
       "        vertical-align: top;\n",
       "    }\n",
       "\n",
       "    .dataframe thead th {\n",
       "        text-align: right;\n",
       "    }\n",
       "</style>\n",
       "<table border=\"1\" class=\"dataframe\">\n",
       "  <thead>\n",
       "    <tr style=\"text-align: right;\">\n",
       "      <th></th>\n",
       "      <th>PassengerId</th>\n",
       "      <th>Pclass</th>\n",
       "      <th>Name</th>\n",
       "      <th>Sex</th>\n",
       "      <th>Age</th>\n",
       "      <th>SibSp</th>\n",
       "      <th>Parch</th>\n",
       "      <th>Ticket</th>\n",
       "      <th>Fare</th>\n",
       "      <th>Cabin</th>\n",
       "      <th>Embarked</th>\n",
       "    </tr>\n",
       "  </thead>\n",
       "  <tbody>\n",
       "    <tr>\n",
       "      <th>0</th>\n",
       "      <td>892</td>\n",
       "      <td>3</td>\n",
       "      <td>Kelly, Mr. James</td>\n",
       "      <td>male</td>\n",
       "      <td>34.5</td>\n",
       "      <td>0</td>\n",
       "      <td>0</td>\n",
       "      <td>330911</td>\n",
       "      <td>7.8292</td>\n",
       "      <td>NaN</td>\n",
       "      <td>Q</td>\n",
       "    </tr>\n",
       "    <tr>\n",
       "      <th>1</th>\n",
       "      <td>893</td>\n",
       "      <td>3</td>\n",
       "      <td>Wilkes, Mrs. James (Ellen Needs)</td>\n",
       "      <td>female</td>\n",
       "      <td>47.0</td>\n",
       "      <td>1</td>\n",
       "      <td>0</td>\n",
       "      <td>363272</td>\n",
       "      <td>7.0000</td>\n",
       "      <td>NaN</td>\n",
       "      <td>S</td>\n",
       "    </tr>\n",
       "    <tr>\n",
       "      <th>2</th>\n",
       "      <td>894</td>\n",
       "      <td>2</td>\n",
       "      <td>Myles, Mr. Thomas Francis</td>\n",
       "      <td>male</td>\n",
       "      <td>62.0</td>\n",
       "      <td>0</td>\n",
       "      <td>0</td>\n",
       "      <td>240276</td>\n",
       "      <td>9.6875</td>\n",
       "      <td>NaN</td>\n",
       "      <td>Q</td>\n",
       "    </tr>\n",
       "    <tr>\n",
       "      <th>3</th>\n",
       "      <td>895</td>\n",
       "      <td>3</td>\n",
       "      <td>Wirz, Mr. Albert</td>\n",
       "      <td>male</td>\n",
       "      <td>27.0</td>\n",
       "      <td>0</td>\n",
       "      <td>0</td>\n",
       "      <td>315154</td>\n",
       "      <td>8.6625</td>\n",
       "      <td>NaN</td>\n",
       "      <td>S</td>\n",
       "    </tr>\n",
       "    <tr>\n",
       "      <th>4</th>\n",
       "      <td>896</td>\n",
       "      <td>3</td>\n",
       "      <td>Hirvonen, Mrs. Alexander (Helga E Lindqvist)</td>\n",
       "      <td>female</td>\n",
       "      <td>22.0</td>\n",
       "      <td>1</td>\n",
       "      <td>1</td>\n",
       "      <td>3101298</td>\n",
       "      <td>12.2875</td>\n",
       "      <td>NaN</td>\n",
       "      <td>S</td>\n",
       "    </tr>\n",
       "  </tbody>\n",
       "</table>\n",
       "</div>"
      ],
      "text/plain": [
       "   PassengerId  Pclass                                          Name     Sex  \\\n",
       "0          892       3                              Kelly, Mr. James    male   \n",
       "1          893       3              Wilkes, Mrs. James (Ellen Needs)  female   \n",
       "2          894       2                     Myles, Mr. Thomas Francis    male   \n",
       "3          895       3                              Wirz, Mr. Albert    male   \n",
       "4          896       3  Hirvonen, Mrs. Alexander (Helga E Lindqvist)  female   \n",
       "\n",
       "    Age  SibSp  Parch   Ticket     Fare Cabin Embarked  \n",
       "0  34.5      0      0   330911   7.8292   NaN        Q  \n",
       "1  47.0      1      0   363272   7.0000   NaN        S  \n",
       "2  62.0      0      0   240276   9.6875   NaN        Q  \n",
       "3  27.0      0      0   315154   8.6625   NaN        S  \n",
       "4  22.0      1      1  3101298  12.2875   NaN        S  "
      ]
     },
     "execution_count": 4,
     "metadata": {},
     "output_type": "execute_result"
    }
   ],
   "source": [
    "test.head()"
   ]
  },
  {
   "cell_type": "code",
   "execution_count": 5,
   "metadata": {},
   "outputs": [
    {
     "name": "stdout",
     "output_type": "stream",
     "text": [
      "<class 'pandas.core.frame.DataFrame'>\n",
      "RangeIndex: 891 entries, 0 to 890\n",
      "Data columns (total 12 columns):\n",
      " #   Column       Non-Null Count  Dtype  \n",
      "---  ------       --------------  -----  \n",
      " 0   PassengerId  891 non-null    int64  \n",
      " 1   Survived     891 non-null    int64  \n",
      " 2   Pclass       891 non-null    int64  \n",
      " 3   Name         891 non-null    object \n",
      " 4   Sex          891 non-null    object \n",
      " 5   Age          714 non-null    float64\n",
      " 6   SibSp        891 non-null    int64  \n",
      " 7   Parch        891 non-null    int64  \n",
      " 8   Ticket       891 non-null    object \n",
      " 9   Fare         891 non-null    float64\n",
      " 10  Cabin        204 non-null    object \n",
      " 11  Embarked     889 non-null    object \n",
      "dtypes: float64(2), int64(5), object(5)\n",
      "memory usage: 83.7+ KB\n"
     ]
    }
   ],
   "source": [
    "train.info()"
   ]
  },
  {
   "cell_type": "code",
   "execution_count": 89,
   "metadata": {},
   "outputs": [
    {
     "name": "stdout",
     "output_type": "stream",
     "text": [
      "The numerical columns are ['PassengerId', 'Survived', 'Pclass', 'Age', 'SibSp', 'Parch', 'Fare']\n",
      "The categorical columns are ['Name', 'Sex', 'Ticket', 'Cabin', 'Embarked']\n"
     ]
    }
   ],
   "source": [
    "# train_pre.loc[:, train_pre.dtypes == np.float64] # It includes only float types\n",
    "num_col = train.select_dtypes(include=[np.number]).columns.tolist() # It includes floats and int both\n",
    "cat_col = train.select_dtypes(include=[object]).columns.tolist()\n",
    "print('The numerical columns are {}'.format(num_col))\n",
    "print('The categorical columns are {}'.format(cat_col))"
   ]
  },
  {
   "cell_type": "markdown",
   "metadata": {},
   "source": [
    "## Data at first instance\n",
    "**Data Description**\n",
    "- **Target Column**: train's survived column is target variable.\n",
    "- **Missing values** in Age, Cabin, Embarked columns. \n",
    "- **Identity factors** Passenger Id, Name, and Ticket identity factors. From the name, we have extracted the titles. \n",
    "- The columns with object dtype are the possible categorical features in your dataset. We shouldn't not completely rely on .info() to get the real data type of the values of a feature, as some missing values that are represented as strings in a continuous feature can coerce it to read them as object dtypes.\n",
    "\n",
    "\n",
    "**Data Types**\n",
    "- **Categorical input variables:** Sex, Cabin, and Embarked are categorical data.\n",
    "- **Numerical variables**: Age and fare, SibSp, and Parch are continuous numerical values while Pclass  are categorical numerical values. We would be dealing them in two separate categories. \n",
    "- **Categorical output**: Survived is a positive class while unsurvived is a negative class. They are labeled as 1 and 0, respectively.\n",
    "\n",
    "**Missing Values**"
   ]
  },
  {
   "cell_type": "code",
   "execution_count": 6,
   "metadata": {},
   "outputs": [
    {
     "data": {
      "text/plain": [
       "Cabin          687\n",
       "Age            177\n",
       "Embarked         2\n",
       "Fare             0\n",
       "Ticket           0\n",
       "Parch            0\n",
       "SibSp            0\n",
       "Sex              0\n",
       "Name             0\n",
       "Pclass           0\n",
       "Survived         0\n",
       "PassengerId      0\n",
       "dtype: int64"
      ]
     },
     "execution_count": 6,
     "metadata": {},
     "output_type": "execute_result"
    }
   ],
   "source": [
    "train.isnull().sum().sort_values(ascending = False)\n",
    "# The percentage of missing values can be determined by dividing the above expression by len(df)\n"
   ]
  },
  {
   "cell_type": "markdown",
   "metadata": {},
   "source": [
    "**Missing Values**\n",
    "\n",
    "From proceeding any data analysis, first we should impute missing values. We are copying the training data into a dataset train_pre, so that any processing executed in this section won't affect the actual dataset. Once we are sure of our imputing methods then, we would make the pipeline.\n",
    "\n",
    "**Imputing the data**\n",
    "- **Age**: By median of age of a group of the same sex and class.\n",
    "- **Cabin** We are not imputing any value right now as there is large percentage of missing values. We may think to drop this column in our modeling. (Not yet decided)\n",
    "- **Embarked**- We are imputing them by a constant S as there are ticket information reveals it. \n",
    "\n",
    "This is the preliminary stage of imputing data, we can choose another method during finalization of preprocessing steps. Keep in mind that the test data must be imputed in the same manner."
   ]
  },
  {
   "cell_type": "code",
   "execution_count": 7,
   "metadata": {},
   "outputs": [
    {
     "name": "stdout",
     "output_type": "stream",
     "text": [
      "<class 'pandas.core.frame.DataFrame'>\n",
      "RangeIndex: 891 entries, 0 to 890\n",
      "Data columns (total 12 columns):\n",
      " #   Column       Non-Null Count  Dtype  \n",
      "---  ------       --------------  -----  \n",
      " 0   PassengerId  891 non-null    int64  \n",
      " 1   Survived     891 non-null    int64  \n",
      " 2   Pclass       891 non-null    int64  \n",
      " 3   Name         891 non-null    object \n",
      " 4   Sex          891 non-null    object \n",
      " 5   Age          891 non-null    float64\n",
      " 6   SibSp        891 non-null    int64  \n",
      " 7   Parch        891 non-null    int64  \n",
      " 8   Ticket       891 non-null    object \n",
      " 9   Fare         891 non-null    float64\n",
      " 10  Cabin        204 non-null    object \n",
      " 11  Embarked     891 non-null    object \n",
      "dtypes: float64(2), int64(5), object(5)\n",
      "memory usage: 83.7+ KB\n"
     ]
    }
   ],
   "source": [
    "train_pre = train.copy()\n",
    "train_pre['Age'] = train_pre.groupby(['Sex', 'Pclass'])['Age'].apply(lambda x: x.fillna(x.median()))\n",
    "train_pre['Embarked'] = train_pre['Embarked'].fillna('S')\n",
    "train_pre.info()"
   ]
  },
  {
   "cell_type": "markdown",
   "metadata": {},
   "source": [
    "We have not filled Cabin data, rest of the columns don't have any missing value now. In whole data set train_pre only cabin has still missing values. \n",
    "\n",
    "**Exploratory Data Analysis of Object Data**"
   ]
  },
  {
   "cell_type": "code",
   "execution_count": 8,
   "metadata": {},
   "outputs": [
    {
     "data": {
      "text/plain": [
       "['Name', 'Sex', 'Ticket', 'Cabin', 'Embarked']"
      ]
     },
     "execution_count": 8,
     "metadata": {},
     "output_type": "execute_result"
    }
   ],
   "source": [
    "cat_columns = train_pre.select_dtypes(include=object).columns.tolist()\n",
    "cat_columns"
   ]
  },
  {
   "cell_type": "code",
   "execution_count": 9,
   "metadata": {},
   "outputs": [
    {
     "data": {
      "text/html": [
       "<div>\n",
       "<style scoped>\n",
       "    .dataframe tbody tr th:only-of-type {\n",
       "        vertical-align: middle;\n",
       "    }\n",
       "\n",
       "    .dataframe tbody tr th {\n",
       "        vertical-align: top;\n",
       "    }\n",
       "\n",
       "    .dataframe thead th {\n",
       "        text-align: right;\n",
       "    }\n",
       "</style>\n",
       "<table border=\"1\" class=\"dataframe\">\n",
       "  <thead>\n",
       "    <tr style=\"text-align: right;\">\n",
       "      <th></th>\n",
       "      <th>Name</th>\n",
       "      <th>Sex</th>\n",
       "      <th>Ticket</th>\n",
       "      <th>Cabin</th>\n",
       "      <th>Embarked</th>\n",
       "    </tr>\n",
       "  </thead>\n",
       "  <tbody>\n",
       "    <tr>\n",
       "      <th>count</th>\n",
       "      <td>891</td>\n",
       "      <td>891</td>\n",
       "      <td>891</td>\n",
       "      <td>204</td>\n",
       "      <td>891</td>\n",
       "    </tr>\n",
       "    <tr>\n",
       "      <th>unique</th>\n",
       "      <td>891</td>\n",
       "      <td>2</td>\n",
       "      <td>681</td>\n",
       "      <td>147</td>\n",
       "      <td>3</td>\n",
       "    </tr>\n",
       "    <tr>\n",
       "      <th>top</th>\n",
       "      <td>Hansen, Mr. Henry Damsgaard</td>\n",
       "      <td>male</td>\n",
       "      <td>1601</td>\n",
       "      <td>G6</td>\n",
       "      <td>S</td>\n",
       "    </tr>\n",
       "    <tr>\n",
       "      <th>freq</th>\n",
       "      <td>1</td>\n",
       "      <td>577</td>\n",
       "      <td>7</td>\n",
       "      <td>4</td>\n",
       "      <td>646</td>\n",
       "    </tr>\n",
       "  </tbody>\n",
       "</table>\n",
       "</div>"
      ],
      "text/plain": [
       "                               Name   Sex Ticket Cabin Embarked\n",
       "count                           891   891    891   204      891\n",
       "unique                          891     2    681   147        3\n",
       "top     Hansen, Mr. Henry Damsgaard  male   1601    G6        S\n",
       "freq                              1   577      7     4      646"
      ]
     },
     "execution_count": 9,
     "metadata": {},
     "output_type": "execute_result"
    }
   ],
   "source": [
    "train_pre[cat_columns].describe()"
   ]
  },
  {
   "cell_type": "code",
   "execution_count": 10,
   "metadata": {},
   "outputs": [
    {
     "data": {
      "text/plain": [
       "male      577\n",
       "female    314\n",
       "Name: Sex, dtype: int64"
      ]
     },
     "execution_count": 10,
     "metadata": {},
     "output_type": "execute_result"
    }
   ],
   "source": [
    "train_pre['Sex'].value_counts()"
   ]
  },
  {
   "cell_type": "code",
   "execution_count": 11,
   "metadata": {},
   "outputs": [
    {
     "data": {
      "text/plain": [
       "S    646\n",
       "C    168\n",
       "Q     77\n",
       "Name: Embarked, dtype: int64"
      ]
     },
     "execution_count": 11,
     "metadata": {},
     "output_type": "execute_result"
    }
   ],
   "source": [
    "train_pre['Embarked'].value_counts()"
   ]
  },
  {
   "cell_type": "markdown",
   "metadata": {},
   "source": [
    "**Observation of object data type**\n",
    "\n",
    "The first thing is to understand the classes of these categorical data. \n",
    "- **Name**: all of them have unique values.\n",
    "- **Sex**: Two unique values (male: 577, female: 314)\n",
    "- **Ticket**: Some of the passengers have common tickets (tickets bought together). Unique values: 681\n",
    "- **Cabin**: 147 unique values (keep in mind that still 687 values are missing. **But it is worth to check if there is any correlation of ticket number to the cabin name.**\n",
    "- **Embarked**: Three unique values (S: 646, C: 168, Q: 77) Port of Embarkation (C = Cherbourg, Q = Queenstown, S = Southampton)\n",
    "\n",
    "**Exploratory analysis of numerical data**"
   ]
  },
  {
   "cell_type": "code",
   "execution_count": 10,
   "metadata": {},
   "outputs": [
    {
     "data": {
      "text/plain": [
       "['PassengerId', 'Survived', 'Pclass', 'Age', 'SibSp', 'Parch', 'Fare']"
      ]
     },
     "execution_count": 10,
     "metadata": {},
     "output_type": "execute_result"
    }
   ],
   "source": [
    "num_columns = train_pre.select_dtypes(include=np.number).columns.tolist()\n",
    "num_columns"
   ]
  },
  {
   "cell_type": "code",
   "execution_count": 11,
   "metadata": {},
   "outputs": [
    {
     "data": {
      "text/html": [
       "<div>\n",
       "<style scoped>\n",
       "    .dataframe tbody tr th:only-of-type {\n",
       "        vertical-align: middle;\n",
       "    }\n",
       "\n",
       "    .dataframe tbody tr th {\n",
       "        vertical-align: top;\n",
       "    }\n",
       "\n",
       "    .dataframe thead th {\n",
       "        text-align: right;\n",
       "    }\n",
       "</style>\n",
       "<table border=\"1\" class=\"dataframe\">\n",
       "  <thead>\n",
       "    <tr style=\"text-align: right;\">\n",
       "      <th></th>\n",
       "      <th>PassengerId</th>\n",
       "      <th>Survived</th>\n",
       "      <th>Pclass</th>\n",
       "      <th>Age</th>\n",
       "      <th>SibSp</th>\n",
       "      <th>Parch</th>\n",
       "      <th>Fare</th>\n",
       "    </tr>\n",
       "  </thead>\n",
       "  <tbody>\n",
       "    <tr>\n",
       "      <th>count</th>\n",
       "      <td>891.000000</td>\n",
       "      <td>891.000000</td>\n",
       "      <td>891.000000</td>\n",
       "      <td>891.000000</td>\n",
       "      <td>891.000000</td>\n",
       "      <td>891.000000</td>\n",
       "      <td>891.000000</td>\n",
       "    </tr>\n",
       "    <tr>\n",
       "      <th>mean</th>\n",
       "      <td>446.000000</td>\n",
       "      <td>0.383838</td>\n",
       "      <td>2.308642</td>\n",
       "      <td>29.112424</td>\n",
       "      <td>0.523008</td>\n",
       "      <td>0.381594</td>\n",
       "      <td>32.204208</td>\n",
       "    </tr>\n",
       "    <tr>\n",
       "      <th>std</th>\n",
       "      <td>257.353842</td>\n",
       "      <td>0.486592</td>\n",
       "      <td>0.836071</td>\n",
       "      <td>13.304424</td>\n",
       "      <td>1.102743</td>\n",
       "      <td>0.806057</td>\n",
       "      <td>49.693429</td>\n",
       "    </tr>\n",
       "    <tr>\n",
       "      <th>min</th>\n",
       "      <td>1.000000</td>\n",
       "      <td>0.000000</td>\n",
       "      <td>1.000000</td>\n",
       "      <td>0.420000</td>\n",
       "      <td>0.000000</td>\n",
       "      <td>0.000000</td>\n",
       "      <td>0.000000</td>\n",
       "    </tr>\n",
       "    <tr>\n",
       "      <th>25%</th>\n",
       "      <td>223.500000</td>\n",
       "      <td>0.000000</td>\n",
       "      <td>2.000000</td>\n",
       "      <td>21.500000</td>\n",
       "      <td>0.000000</td>\n",
       "      <td>0.000000</td>\n",
       "      <td>7.910400</td>\n",
       "    </tr>\n",
       "    <tr>\n",
       "      <th>50%</th>\n",
       "      <td>446.000000</td>\n",
       "      <td>0.000000</td>\n",
       "      <td>3.000000</td>\n",
       "      <td>26.000000</td>\n",
       "      <td>0.000000</td>\n",
       "      <td>0.000000</td>\n",
       "      <td>14.454200</td>\n",
       "    </tr>\n",
       "    <tr>\n",
       "      <th>75%</th>\n",
       "      <td>668.500000</td>\n",
       "      <td>1.000000</td>\n",
       "      <td>3.000000</td>\n",
       "      <td>36.000000</td>\n",
       "      <td>1.000000</td>\n",
       "      <td>0.000000</td>\n",
       "      <td>31.000000</td>\n",
       "    </tr>\n",
       "    <tr>\n",
       "      <th>max</th>\n",
       "      <td>891.000000</td>\n",
       "      <td>1.000000</td>\n",
       "      <td>3.000000</td>\n",
       "      <td>80.000000</td>\n",
       "      <td>8.000000</td>\n",
       "      <td>6.000000</td>\n",
       "      <td>512.329200</td>\n",
       "    </tr>\n",
       "  </tbody>\n",
       "</table>\n",
       "</div>"
      ],
      "text/plain": [
       "       PassengerId    Survived      Pclass         Age       SibSp  \\\n",
       "count   891.000000  891.000000  891.000000  891.000000  891.000000   \n",
       "mean    446.000000    0.383838    2.308642   29.112424    0.523008   \n",
       "std     257.353842    0.486592    0.836071   13.304424    1.102743   \n",
       "min       1.000000    0.000000    1.000000    0.420000    0.000000   \n",
       "25%     223.500000    0.000000    2.000000   21.500000    0.000000   \n",
       "50%     446.000000    0.000000    3.000000   26.000000    0.000000   \n",
       "75%     668.500000    1.000000    3.000000   36.000000    1.000000   \n",
       "max     891.000000    1.000000    3.000000   80.000000    8.000000   \n",
       "\n",
       "            Parch        Fare  \n",
       "count  891.000000  891.000000  \n",
       "mean     0.381594   32.204208  \n",
       "std      0.806057   49.693429  \n",
       "min      0.000000    0.000000  \n",
       "25%      0.000000    7.910400  \n",
       "50%      0.000000   14.454200  \n",
       "75%      0.000000   31.000000  \n",
       "max      6.000000  512.329200  "
      ]
     },
     "execution_count": 11,
     "metadata": {},
     "output_type": "execute_result"
    }
   ],
   "source": [
    "train_pre[num_columns].describe()"
   ]
  },
  {
   "cell_type": "code",
   "execution_count": 12,
   "metadata": {},
   "outputs": [
    {
     "data": {
      "text/plain": [
       "0    549\n",
       "1    342\n",
       "Name: Survived, dtype: int64"
      ]
     },
     "execution_count": 12,
     "metadata": {},
     "output_type": "execute_result"
    }
   ],
   "source": [
    "train_pre['Survived'].value_counts()"
   ]
  },
  {
   "cell_type": "code",
   "execution_count": 13,
   "metadata": {},
   "outputs": [
    {
     "data": {
      "text/plain": [
       "3    491\n",
       "1    216\n",
       "2    184\n",
       "Name: Pclass, dtype: int64"
      ]
     },
     "execution_count": 13,
     "metadata": {},
     "output_type": "execute_result"
    }
   ],
   "source": [
    "train_pre['Pclass'].value_counts()"
   ]
  },
  {
   "cell_type": "code",
   "execution_count": 14,
   "metadata": {},
   "outputs": [
    {
     "data": {
      "text/plain": [
       "0    608\n",
       "1    209\n",
       "2     28\n",
       "4     18\n",
       "3     16\n",
       "8      7\n",
       "5      5\n",
       "Name: SibSp, dtype: int64"
      ]
     },
     "execution_count": 14,
     "metadata": {},
     "output_type": "execute_result"
    }
   ],
   "source": [
    "train_pre['SibSp'].value_counts()"
   ]
  },
  {
   "cell_type": "code",
   "execution_count": 15,
   "metadata": {},
   "outputs": [
    {
     "data": {
      "text/plain": [
       "0    678\n",
       "1    118\n",
       "2     80\n",
       "5      5\n",
       "3      5\n",
       "4      4\n",
       "6      1\n",
       "Name: Parch, dtype: int64"
      ]
     },
     "execution_count": 15,
     "metadata": {},
     "output_type": "execute_result"
    }
   ],
   "source": [
    "train_pre['Parch'].value_counts()"
   ]
  },
  {
   "cell_type": "code",
   "execution_count": 18,
   "metadata": {},
   "outputs": [
    {
     "data": {
      "image/png": "[encoded data removed]",
      "text/plain": [
       "<Figure size 432x288 with 2 Axes>"
      ]
     },
     "metadata": {
      "needs_background": "light"
     },
     "output_type": "display_data"
    }
   ],
   "source": [
    "train_pre[['Age', 'Fare', ]].hist(bins = 50)\n",
    "plt.show()"
   ]
  },
  {
   "cell_type": "code",
   "execution_count": 16,
   "metadata": {},
   "outputs": [
    {
     "data": {
      "image/png": "[encoded data removed]",
      "text/plain": [
       "<Figure size 720x360 with 4 Axes>"
      ]
     },
     "metadata": {},
     "output_type": "display_data"
    }
   ],
   "source": [
    "train_pre[['Survived', 'Pclass', 'SibSp','Parch']].hist(figsize = (10,5))\n",
    "plt.show()"
   ]
  },
  {
   "cell_type": "markdown",
   "metadata": {},
   "source": [
    "**Observation of numerical data type**\n",
    "Age and Fare have continuous values while others PassengerId, Survived, Pclass, SibSp, and Parch have discrete numerical values (like 0, 1, 2, 3). We need to identify how to handle the variables which have discrete numerical values.\n",
    "- **PassengerId**: 1 to 891 id numbers.\n",
    "- **Survived**: 0 (549) and 1 (342).\n",
    "- **pclass**: 1 (216), 2 (184), and 3 (491). A proxy for socio-economic status (SES) 1st = Upper, 2nd = Middle, 3rd = Lower \n",
    "- **SibSp**: no. of siblings / spouses aboard the Titanic, values lie between 0 to 8. (609 have 0 siblings/spouses while 209 passengers have at one and rest have varying between 2 to 8). \n",
    "- **Parch**: no. of parents / children aboard the Titanic (values lie between 0 to 6). (again here 678 passengers have no parents/children while 118 have them. rest of them have between 2 to 6). \n",
    "\n",
    "From SibSp and Parch, it can be understood that most of the passengers are travelling alone. The total number of tickets are also 681 which seems correlated to the passenger traveling. We would be further interested in knowing that how ticket and cabin information be connected in modeling.\n",
    "\n",
    "- **Age**: Age is fractional if less than 1. If the age is estimated, is it in the form of xx.5. Range 0.42 to 80.\n",
    "- **Fare**: Range between 0 and 512.\n",
    "\n",
    "So far, we have understood the individual columns and imputed the columns other than Cabin. Now, we would focus on understanding the correlation of output (Survived or not) with respect to each input variables. This analysis would be effective if we implement differnt analytic technique depending on the input variables. We would work on a new dataframe obtained from the above processing (imputing)."
   ]
  },
  {
   "cell_type": "markdown",
   "metadata": {},
   "source": [
    "# Data Analysis: \n",
    "\n",
    "- In this section, we are proceeding with the imputed data saved as train_pre_2 dataset. \n",
    "- Features like title, family members, and deck are extracted from the input variables."
   ]
  },
  {
   "cell_type": "code",
   "execution_count": 17,
   "metadata": {},
   "outputs": [
    {
     "data": {
      "text/html": [
       "<div>\n",
       "<style scoped>\n",
       "    .dataframe tbody tr th:only-of-type {\n",
       "        vertical-align: middle;\n",
       "    }\n",
       "\n",
       "    .dataframe tbody tr th {\n",
       "        vertical-align: top;\n",
       "    }\n",
       "\n",
       "    .dataframe thead th {\n",
       "        text-align: right;\n",
       "    }\n",
       "</style>\n",
       "<table border=\"1\" class=\"dataframe\">\n",
       "  <thead>\n",
       "    <tr style=\"text-align: right;\">\n",
       "      <th></th>\n",
       "      <th>PassengerId</th>\n",
       "      <th>Survived</th>\n",
       "      <th>Pclass</th>\n",
       "      <th>Name</th>\n",
       "      <th>Sex</th>\n",
       "      <th>Age</th>\n",
       "      <th>SibSp</th>\n",
       "      <th>Parch</th>\n",
       "      <th>Ticket</th>\n",
       "      <th>Fare</th>\n",
       "      <th>Cabin</th>\n",
       "      <th>Embarked</th>\n",
       "    </tr>\n",
       "  </thead>\n",
       "  <tbody>\n",
       "    <tr>\n",
       "      <th>0</th>\n",
       "      <td>1</td>\n",
       "      <td>0</td>\n",
       "      <td>3</td>\n",
       "      <td>Braund, Mr. Owen Harris</td>\n",
       "      <td>male</td>\n",
       "      <td>22.0</td>\n",
       "      <td>1</td>\n",
       "      <td>0</td>\n",
       "      <td>A/5 21171</td>\n",
       "      <td>7.2500</td>\n",
       "      <td>NaN</td>\n",
       "      <td>S</td>\n",
       "    </tr>\n",
       "    <tr>\n",
       "      <th>1</th>\n",
       "      <td>2</td>\n",
       "      <td>1</td>\n",
       "      <td>1</td>\n",
       "      <td>Cumings, Mrs. John Bradley (Florence Briggs Th...</td>\n",
       "      <td>female</td>\n",
       "      <td>38.0</td>\n",
       "      <td>1</td>\n",
       "      <td>0</td>\n",
       "      <td>PC 17599</td>\n",
       "      <td>71.2833</td>\n",
       "      <td>C85</td>\n",
       "      <td>C</td>\n",
       "    </tr>\n",
       "    <tr>\n",
       "      <th>2</th>\n",
       "      <td>3</td>\n",
       "      <td>1</td>\n",
       "      <td>3</td>\n",
       "      <td>Heikkinen, Miss. Laina</td>\n",
       "      <td>female</td>\n",
       "      <td>26.0</td>\n",
       "      <td>0</td>\n",
       "      <td>0</td>\n",
       "      <td>STON/O2. 3101282</td>\n",
       "      <td>7.9250</td>\n",
       "      <td>NaN</td>\n",
       "      <td>S</td>\n",
       "    </tr>\n",
       "    <tr>\n",
       "      <th>3</th>\n",
       "      <td>4</td>\n",
       "      <td>1</td>\n",
       "      <td>1</td>\n",
       "      <td>Futrelle, Mrs. Jacques Heath (Lily May Peel)</td>\n",
       "      <td>female</td>\n",
       "      <td>35.0</td>\n",
       "      <td>1</td>\n",
       "      <td>0</td>\n",
       "      <td>113803</td>\n",
       "      <td>53.1000</td>\n",
       "      <td>C123</td>\n",
       "      <td>S</td>\n",
       "    </tr>\n",
       "    <tr>\n",
       "      <th>4</th>\n",
       "      <td>5</td>\n",
       "      <td>0</td>\n",
       "      <td>3</td>\n",
       "      <td>Allen, Mr. William Henry</td>\n",
       "      <td>male</td>\n",
       "      <td>35.0</td>\n",
       "      <td>0</td>\n",
       "      <td>0</td>\n",
       "      <td>373450</td>\n",
       "      <td>8.0500</td>\n",
       "      <td>NaN</td>\n",
       "      <td>S</td>\n",
       "    </tr>\n",
       "  </tbody>\n",
       "</table>\n",
       "</div>"
      ],
      "text/plain": [
       "   PassengerId  Survived  Pclass  \\\n",
       "0            1         0       3   \n",
       "1            2         1       1   \n",
       "2            3         1       3   \n",
       "3            4         1       1   \n",
       "4            5         0       3   \n",
       "\n",
       "                                                Name     Sex   Age  SibSp  \\\n",
       "0                            Braund, Mr. Owen Harris    male  22.0      1   \n",
       "1  Cumings, Mrs. John Bradley (Florence Briggs Th...  female  38.0      1   \n",
       "2                             Heikkinen, Miss. Laina  female  26.0      0   \n",
       "3       Futrelle, Mrs. Jacques Heath (Lily May Peel)  female  35.0      1   \n",
       "4                           Allen, Mr. William Henry    male  35.0      0   \n",
       "\n",
       "   Parch            Ticket     Fare Cabin Embarked  \n",
       "0      0         A/5 21171   7.2500   NaN        S  \n",
       "1      0          PC 17599  71.2833   C85        C  \n",
       "2      0  STON/O2. 3101282   7.9250   NaN        S  \n",
       "3      0            113803  53.1000  C123        S  \n",
       "4      0            373450   8.0500   NaN        S  "
      ]
     },
     "execution_count": 17,
     "metadata": {},
     "output_type": "execute_result"
    }
   ],
   "source": [
    "train_pre_2 = train_pre.copy()\n",
    "train_pre_2.head()"
   ]
  },
  {
   "cell_type": "code",
   "execution_count": 675,
   "metadata": {},
   "outputs": [],
   "source": [
    "# train_pre_2.info()"
   ]
  },
  {
   "cell_type": "markdown",
   "metadata": {},
   "source": [
    "- We have confirmed that there is no missing values other than Cabin. \n",
    "- In Python, it's a good practice to typecast categorical features to a category dtype because they make the operations on such columns much faster than the object dtype.\n",
    "\n",
    "- A column 'Survived_num' is copied as of survived data and the survived column is converted into category column. It is just to keep output handy in numerical and categorical data types."
   ]
  },
  {
   "cell_type": "code",
   "execution_count": 18,
   "metadata": {},
   "outputs": [],
   "source": [
    "cat_columns = train_pre_2.select_dtypes(include=object).columns.tolist()\n",
    "# train_pre_2[cat_columns] = train_pre_2[cat_columns].astype('category')"
   ]
  },
  {
   "cell_type": "code",
   "execution_count": 19,
   "metadata": {},
   "outputs": [],
   "source": [
    "train_pre_2['Survived_num'] = train_pre_2['Survived']"
   ]
  },
  {
   "cell_type": "code",
   "execution_count": 20,
   "metadata": {},
   "outputs": [],
   "source": [
    "train_pre_2[['Survived','Pclass']] = train_pre_2[['Survived','Pclass']].astype('category')"
   ]
  },
  {
   "cell_type": "markdown",
   "metadata": {},
   "source": [
    "# Features Engineering\n",
    "**Feature Engineering 1: Name to title**\n",
    "\n",
    "- While observing carefully, we have found that for all the names have titles (Mr. Mrs. Miss etc.)\n",
    "- Mr and Mrs are combined to married, Miss and Master to Single, Capt and other rankers to officer, while the rest is in others.\n"
   ]
  },
  {
   "cell_type": "code",
   "execution_count": 21,
   "metadata": {},
   "outputs": [],
   "source": [
    "train_pre_2['Title'] = train_pre_2['Name'].str.split(', ').str[1].str.split('.').str[0]"
   ]
  },
  {
   "cell_type": "code",
   "execution_count": 22,
   "metadata": {},
   "outputs": [
    {
     "data": {
      "text/plain": [
       "Mr              517\n",
       "Miss            182\n",
       "Mrs             125\n",
       "Master           40\n",
       "Dr                7\n",
       "Rev               6\n",
       "Col               2\n",
       "Major             2\n",
       "Mlle              2\n",
       "Capt              1\n",
       "Ms                1\n",
       "Sir               1\n",
       "Don               1\n",
       "the Countess      1\n",
       "Mme               1\n",
       "Jonkheer          1\n",
       "Lady              1\n",
       "Name: Title, dtype: int64"
      ]
     },
     "execution_count": 22,
     "metadata": {},
     "output_type": "execute_result"
    }
   ],
   "source": [
    "train_pre_2['Title'].value_counts()"
   ]
  },
  {
   "cell_type": "code",
   "execution_count": 23,
   "metadata": {},
   "outputs": [],
   "source": [
    "married = ['Mrs', 'Mr']\n",
    "single = ['Miss', 'Master','Ms', 'Mlle', 'Mme'] #Mlle, Mme are french word for unmarried women\n",
    "officer = ['Dr','Rev','Major','Col','the Countess', 'Capt', 'Lady', 'Sir', 'Don'] # the Countess is title of nobility in certain European countries,\n",
    "others = ['Jonkheer' ]\n",
    "d = ChainMap(dict.fromkeys(married,'Married'),dict.fromkeys(single, 'Single'), dict.fromkeys(officer,'Officer'), dict.fromkeys(others,'Others'))\n",
    "train_pre_2['Title_cat'] = train_pre_2['Title'].map(d.get)"
   ]
  },
  {
   "cell_type": "code",
   "execution_count": 24,
   "metadata": {},
   "outputs": [
    {
     "data": {
      "text/plain": [
       "array(['Married', 'Single', 'Officer', 'Others'], dtype=object)"
      ]
     },
     "execution_count": 24,
     "metadata": {},
     "output_type": "execute_result"
    }
   ],
   "source": [
    "train_pre_2['Title_cat'].unique()"
   ]
  },
  {
   "cell_type": "markdown",
   "metadata": {},
   "source": [
    "**Feature Engineering 2: family members from siblings and parents**\n",
    "\n",
    "- In order to determined the family member traveling together we are adding up sibling and parents. \n",
    "- It is observed that most of the passengers (537 out of 841) were traveling alone. "
   ]
  },
  {
   "cell_type": "code",
   "execution_count": 25,
   "metadata": {},
   "outputs": [],
   "source": [
    "train_pre_2['Family_member'] = train_pre_2['SibSp'] + train_pre_2['Parch'] + 1"
   ]
  },
  {
   "cell_type": "code",
   "execution_count": 26,
   "metadata": {},
   "outputs": [
    {
     "data": {
      "text/plain": [
       "1     537\n",
       "2     161\n",
       "3     102\n",
       "4      29\n",
       "6      22\n",
       "5      15\n",
       "7      12\n",
       "11      7\n",
       "8       6\n",
       "Name: Family_member, dtype: int64"
      ]
     },
     "execution_count": 26,
     "metadata": {},
     "output_type": "execute_result"
    }
   ],
   "source": [
    "train_pre_2['Family_member'].value_counts()"
   ]
  },
  {
   "cell_type": "markdown",
   "metadata": {},
   "source": [
    "**Feature engineering 3: Deck from ticket numbers and Cabin**\n",
    "\n",
    "- A, B, C, T has 1st class only. \n",
    "- Deck D: 1st and 2nd Classes\n",
    "- Deck E: 1st, 2nd, and 3rd classes\n",
    "- Deck F: 2nd, and 3rd Classes\n",
    "- Deck G: 3rd Class\n",
    "\n",
    "**We can divide decks into three categories: A1 (A, B, C, T), A2 (D,E), A3 (F, G). We are doing as total number of cabins and types of classes in decks are similar. Also, as shown below, the survival rates are also similar for this division.**\n",
    "\n",
    "We have imputed missing valuse by M."
   ]
  },
  {
   "cell_type": "code",
   "execution_count": 676,
   "metadata": {},
   "outputs": [
    {
     "data": {
      "text/plain": [
       "A4    687\n",
       "A1    122\n",
       "A2     65\n",
       "A3     17\n",
       "Name: Deck_cat, dtype: int64"
      ]
     },
     "execution_count": 676,
     "metadata": {},
     "output_type": "execute_result"
    }
   ],
   "source": [
    "train_pre_2['Cabin'] = train_pre_2['Cabin'].fillna('M')\n",
    "train_pre_2['Deck'] = train_pre_2['Cabin'].str[0]\n",
    "a1 = ['A','B','C','T']\n",
    "a2 = ['D','E']\n",
    "a3 = ['F','G']\n",
    "a4 = ['M']\n",
    "d_deck = ChainMap(dict.fromkeys(a1,'A1'),dict.fromkeys(a2,'A2'),dict.fromkeys(a3,'A3'), dict.fromkeys(a4,'A4'))\n",
    "# deck_map = {'A':'A1','B':'A1','C':'A1','T':'A1', 'D':'A2','E':'A2', 'F':'A3','G':'A3'}\n",
    "train_pre_2['Deck_cat'] = train_pre_2['Deck'].map(d_deck.get)\n",
    "train_pre_2['Deck_cat'].value_counts()"
   ]
  },
  {
   "cell_type": "code",
   "execution_count": 565,
   "metadata": {},
   "outputs": [
    {
     "data": {
      "text/plain": [
       "array(['A/5 21171', 'PC 17599', 'STON/O2. 3101282', '113803', '373450',\n",
       "       '330877', '17463', '349909', '347742', '237736', 'PP 9549',\n",
       "       '113783', 'A/5. 2151', '347082', '350406', '248706', '382652',\n",
       "       '244373', '345763', '2649', '239865', '248698', '330923', '113788',\n",
       "       '347077', '2631', '19950', '330959', '349216', 'PC 17601',\n",
       "       'PC 17569', '335677', 'C.A. 24579', 'PC 17604', '113789', '2677',\n",
       "       'A./5. 2152', '345764', '2651', '7546', '11668', '349253',\n",
       "       'SC/Paris 2123', '330958', 'S.C./A.4. 23567', '370371', '14311',\n",
       "       '2662', '349237', '3101295', 'A/4. 39886', 'PC 17572', '2926',\n",
       "       '113509', '19947', 'C.A. 31026', '2697', 'C.A. 34651', 'CA 2144',\n",
       "       '2669', '113572', '36973', '347088', 'PC 17605', '2661',\n",
       "       'C.A. 29395', 'S.P. 3464', '3101281', '315151', 'C.A. 33111',\n",
       "       'S.O.C. 14879', '2680', '1601', '348123', '349208', '374746',\n",
       "       '248738', '364516', '345767', '345779', '330932', '113059',\n",
       "       'SO/C 14885', '3101278', 'W./C. 6608', 'SOTON/OQ 392086', '343275',\n",
       "       '343276', '347466', 'W.E.P. 5734', 'C.A. 2315', '364500', '374910',\n",
       "       'PC 17754', 'PC 17759', '231919', '244367', '349245', '349215',\n",
       "       '35281', '7540', '3101276', '349207', '343120', '312991', '349249',\n",
       "       '371110', '110465', '2665', '324669', '4136', '2627',\n",
       "       'STON/O 2. 3101294', '370369', 'PC 17558', 'A4. 54510', '27267',\n",
       "       '370372', 'C 17369', '2668', '347061', '349241',\n",
       "       'SOTON/O.Q. 3101307', 'A/5. 3337', '228414', 'C.A. 29178',\n",
       "       'SC/PARIS 2133', '11752', '7534', 'PC 17593', '2678', '347081',\n",
       "       'STON/O2. 3101279', '365222', '231945', 'C.A. 33112', '350043',\n",
       "       '230080', '244310', 'S.O.P. 1166', '113776', 'A.5. 11206',\n",
       "       'A/5. 851', 'Fa 265302', 'PC 17597', '35851', 'SOTON/OQ 392090',\n",
       "       '315037', 'CA. 2343', '371362', 'C.A. 33595', '347068', '315093',\n",
       "       '363291', '113505', 'PC 17318', '111240', 'STON/O 2. 3101280',\n",
       "       '17764', '350404', '4133', 'PC 17595', '250653', 'LINE',\n",
       "       'SC/PARIS 2131', '230136', '315153', '113767', '370365', '111428',\n",
       "       '364849', '349247', '234604', '28424', '350046', 'PC 17610',\n",
       "       '368703', '4579', '370370', '248747', '345770', '3101264', '2628',\n",
       "       'A/5 3540', '347054', '2699', '367231', '112277',\n",
       "       'SOTON/O.Q. 3101311', 'F.C.C. 13528', 'A/5 21174', '250646',\n",
       "       '367229', '35273', 'STON/O2. 3101283', '243847', '11813',\n",
       "       'W/C 14208', 'SOTON/OQ 392089', '220367', '21440', '349234',\n",
       "       '19943', 'PP 4348', 'SW/PP 751', 'A/5 21173', '236171', '347067',\n",
       "       '237442', 'C.A. 29566', 'W./C. 6609', '26707', 'C.A. 31921',\n",
       "       '28665', 'SCO/W 1585', '367230', 'W./C. 14263',\n",
       "       'STON/O 2. 3101275', '2694', '19928', '347071', '250649', '11751',\n",
       "       '244252', '362316', '113514', 'A/5. 3336', '370129', '2650',\n",
       "       'PC 17585', '110152', 'PC 17755', '230433', '384461', '110413',\n",
       "       '112059', '382649', 'C.A. 17248', '347083', 'PC 17582', 'PC 17760',\n",
       "       '113798', '250644', 'PC 17596', '370375', '13502', '347073',\n",
       "       '239853', 'C.A. 2673', '336439', '347464', '345778', 'A/5. 10482',\n",
       "       '113056', '349239', '345774', '349206', '237798', '370373',\n",
       "       '19877', '11967', 'SC/Paris 2163', '349236', '349233', 'PC 17612',\n",
       "       '2693', '113781', '19988', '9234', '367226', '226593', 'A/5 2466',\n",
       "       '17421', 'PC 17758', 'P/PP 3381', 'PC 17485', '11767', 'PC 17608',\n",
       "       '250651', '349243', 'F.C.C. 13529', '347470', '29011', '36928',\n",
       "       '16966', 'A/5 21172', '349219', '234818', '345364', '28551',\n",
       "       '111361', '113043', 'PC 17611', '349225', '7598', '113784',\n",
       "       '248740', '244361', '229236', '248733', '31418', '386525',\n",
       "       'C.A. 37671', '315088', '7267', '113510', '2695', '2647', '345783',\n",
       "       '237671', '330931', '330980', 'SC/PARIS 2167', '2691',\n",
       "       'SOTON/O.Q. 3101310', 'C 7076', '110813', '2626', '14313',\n",
       "       'PC 17477', '11765', '3101267', '323951', 'C 7077', '113503',\n",
       "       '2648', '347069', 'PC 17757', '2653', 'STON/O 2. 3101293',\n",
       "       '349227', '27849', '367655', 'SC 1748', '113760', '350034',\n",
       "       '3101277', '350052', '350407', '28403', '244278', '240929',\n",
       "       'STON/O 2. 3101289', '341826', '4137', '315096', '28664', '347064',\n",
       "       '29106', '312992', '349222', '394140', 'STON/O 2. 3101269',\n",
       "       '343095', '28220', '250652', '28228', '345773', '349254',\n",
       "       'A/5. 13032', '315082', '347080', 'A/4. 34244', '2003', '250655',\n",
       "       '364851', 'SOTON/O.Q. 392078', '110564', '376564', 'SC/AH 3085',\n",
       "       'STON/O 2. 3101274', '13507', 'C.A. 18723', '345769', '347076',\n",
       "       '230434', '65306', '33638', '113794', '2666', '113786', '65303',\n",
       "       '113051', '17453', 'A/5 2817', '349240', '13509', '17464',\n",
       "       'F.C.C. 13531', '371060', '19952', '364506', '111320', '234360',\n",
       "       'A/S 2816', 'SOTON/O.Q. 3101306', '113792', '36209', '323592',\n",
       "       '315089', 'SC/AH Basle 541', '7553', '31027', '3460', '350060',\n",
       "       '3101298', '239854', 'A/5 3594', '4134', '11771', 'A.5. 18509',\n",
       "       '65304', 'SOTON/OQ 3101317', '113787', 'PC 17609', 'A/4 45380',\n",
       "       '36947', 'C.A. 6212', '350035', '315086', '364846', '330909',\n",
       "       '4135', '26360', '111427', 'C 4001', '382651', 'SOTON/OQ 3101316',\n",
       "       'PC 17473', 'PC 17603', '349209', '36967', 'C.A. 34260', '226875',\n",
       "       '349242', '12749', '349252', '2624', '2700', '367232',\n",
       "       'W./C. 14258', 'PC 17483', '3101296', '29104', '2641', '2690',\n",
       "       '315084', '113050', 'PC 17761', '364498', '13568', 'WE/P 5735',\n",
       "       '2908', '693', 'SC/PARIS 2146', '244358', '330979', '2620',\n",
       "       '347085', '113807', '11755', '345572', '372622', '349251',\n",
       "       '218629', 'SOTON/OQ 392082', 'SOTON/O.Q. 392087', 'A/4 48871',\n",
       "       '349205', '2686', '350417', 'S.W./PP 752', '11769', 'PC 17474',\n",
       "       '14312', 'A/4. 20589', '358585', '243880', '2689',\n",
       "       'STON/O 2. 3101286', '237789', '13049', '3411', '237565', '13567',\n",
       "       '14973', 'A./5. 3235', 'STON/O 2. 3101273', 'A/5 3902', '364848',\n",
       "       'SC/AH 29037', '248727', '2664', '349214', '113796', '364511',\n",
       "       '111426', '349910', '349246', '113804', 'SOTON/O.Q. 3101305',\n",
       "       '370377', '364512', '220845', '31028', '2659', '11753', '350029',\n",
       "       '54636', '36963', '219533', '349224', '334912', '27042', '347743',\n",
       "       '13214', '112052', '237668', 'STON/O 2. 3101292', '350050',\n",
       "       '349231', '13213', 'S.O./P.P. 751', 'CA. 2314', '349221', '8475',\n",
       "       '330919', '365226', '349223', '29751', '2623', '5727', '349210',\n",
       "       'STON/O 2. 3101285', '234686', '312993', 'A/5 3536', '19996',\n",
       "       '29750', 'F.C. 12750', 'C.A. 24580', '244270', '239856', '349912',\n",
       "       '342826', '4138', '330935', '6563', '349228', '350036', '24160',\n",
       "       '17474', '349256', '2672', '113800', '248731', '363592', '35852',\n",
       "       '348121', 'PC 17475', '36864', '350025', '223596', 'PC 17476',\n",
       "       'PC 17482', '113028', '7545', '250647', '348124', '34218', '36568',\n",
       "       '347062', '350048', '12233', '250643', '113806', '315094', '36866',\n",
       "       '236853', 'STON/O2. 3101271', '239855', '28425', '233639',\n",
       "       '349201', '349218', '16988', '376566', 'STON/O 2. 3101288',\n",
       "       '250648', '113773', '335097', '29103', '392096', '345780',\n",
       "       '349204', '350042', '29108', '363294', 'SOTON/O2 3101272', '2663',\n",
       "       '347074', '112379', '364850', '8471', '345781', '350047',\n",
       "       'S.O./P.P. 3', '2674', '29105', '347078', '383121', '36865',\n",
       "       '2687', '113501', 'W./C. 6607', 'SOTON/O.Q. 3101312', '374887',\n",
       "       '3101265', '12460', 'PC 17600', '349203', '28213', '17465',\n",
       "       '349244', '2685', '2625', '347089', '347063', '112050', '347087',\n",
       "       '248723', '3474', '28206', '364499', '112058', 'STON/O2. 3101290',\n",
       "       'S.C./PARIS 2079', 'C 7075', '315098', '19972', '368323', '367228',\n",
       "       '2671', '347468', '2223', 'PC 17756', '315097', '392092', '11774',\n",
       "       'SOTON/O2 3101287', '2683', '315090', 'C.A. 5547', '349213',\n",
       "       '347060', 'PC 17592', '392091', '113055', '2629', '350026',\n",
       "       '28134', '17466', '233866', '236852', 'SC/PARIS 2149', 'PC 17590',\n",
       "       '345777', '349248', '695', '345765', '2667', '349212', '349217',\n",
       "       '349257', '7552', 'C.A./SOTON 34068', 'SOTON/OQ 392076', '211536',\n",
       "       '112053', '111369', '370376'], dtype=object)"
      ]
     },
     "execution_count": 565,
     "metadata": {},
     "output_type": "execute_result"
    }
   ],
   "source": [
    "train_pre_2['Ticket'].unique()"
   ]
  },
  {
   "cell_type": "code",
   "execution_count": 566,
   "metadata": {},
   "outputs": [
    {
     "data": {
      "text/plain": [
       "1601          7\n",
       "CA. 2343      7\n",
       "347082        7\n",
       "347088        6\n",
       "CA 2144       6\n",
       "             ..\n",
       "244358        1\n",
       "349227        1\n",
       "349247        1\n",
       "SCO/W 1585    1\n",
       "349222        1\n",
       "Name: Ticket, Length: 681, dtype: int64"
      ]
     },
     "execution_count": 566,
     "metadata": {},
     "output_type": "execute_result"
    }
   ],
   "source": [
    "train_pre_2['Ticket'].value_counts().sort_values(ascending = False)"
   ]
  },
  {
   "cell_type": "code",
   "execution_count": 579,
   "metadata": {},
   "outputs": [
    {
     "data": {
      "text/plain": [
       "1    547\n",
       "2    188\n",
       "3     63\n",
       "4     44\n",
       "7     21\n",
       "6     18\n",
       "5     10\n",
       "Name: Ticket, dtype: int64"
      ]
     },
     "execution_count": 579,
     "metadata": {},
     "output_type": "execute_result"
    }
   ],
   "source": [
    "train_pre_2['Ticket_sum'] = train_pre_2['Ticket'].value_counts()\n"
   ]
  },
  {
   "cell_type": "code",
   "execution_count": 568,
   "metadata": {},
   "outputs": [
    {
     "data": {
      "text/plain": [
       "0     NaN\n",
       "1     NaN\n",
       "2     NaN\n",
       "3     NaN\n",
       "4     NaN\n",
       "       ..\n",
       "886   NaN\n",
       "887   NaN\n",
       "888   NaN\n",
       "889   NaN\n",
       "890   NaN\n",
       "Name: Ticket_sum, Length: 891, dtype: float64"
      ]
     },
     "execution_count": 568,
     "metadata": {},
     "output_type": "execute_result"
    }
   ],
   "source": [
    "# train_pre_2['Ticket_sum']"
   ]
  },
  {
   "cell_type": "code",
   "execution_count": 677,
   "metadata": {},
   "outputs": [
    {
     "data": {
      "text/html": [
       "<div>\n",
       "<style scoped>\n",
       "    .dataframe tbody tr th:only-of-type {\n",
       "        vertical-align: middle;\n",
       "    }\n",
       "\n",
       "    .dataframe tbody tr th {\n",
       "        vertical-align: top;\n",
       "    }\n",
       "\n",
       "    .dataframe thead th {\n",
       "        text-align: right;\n",
       "    }\n",
       "</style>\n",
       "<table border=\"1\" class=\"dataframe\">\n",
       "  <thead>\n",
       "    <tr style=\"text-align: right;\">\n",
       "      <th>Pclass</th>\n",
       "      <th>1</th>\n",
       "      <th>2</th>\n",
       "      <th>3</th>\n",
       "    </tr>\n",
       "    <tr>\n",
       "      <th>Deck</th>\n",
       "      <th></th>\n",
       "      <th></th>\n",
       "      <th></th>\n",
       "    </tr>\n",
       "  </thead>\n",
       "  <tbody>\n",
       "    <tr>\n",
       "      <th>A</th>\n",
       "      <td>15</td>\n",
       "      <td>0</td>\n",
       "      <td>0</td>\n",
       "    </tr>\n",
       "    <tr>\n",
       "      <th>B</th>\n",
       "      <td>47</td>\n",
       "      <td>0</td>\n",
       "      <td>0</td>\n",
       "    </tr>\n",
       "    <tr>\n",
       "      <th>C</th>\n",
       "      <td>59</td>\n",
       "      <td>0</td>\n",
       "      <td>0</td>\n",
       "    </tr>\n",
       "    <tr>\n",
       "      <th>D</th>\n",
       "      <td>29</td>\n",
       "      <td>4</td>\n",
       "      <td>0</td>\n",
       "    </tr>\n",
       "    <tr>\n",
       "      <th>E</th>\n",
       "      <td>25</td>\n",
       "      <td>4</td>\n",
       "      <td>3</td>\n",
       "    </tr>\n",
       "    <tr>\n",
       "      <th>F</th>\n",
       "      <td>0</td>\n",
       "      <td>8</td>\n",
       "      <td>5</td>\n",
       "    </tr>\n",
       "    <tr>\n",
       "      <th>G</th>\n",
       "      <td>0</td>\n",
       "      <td>0</td>\n",
       "      <td>4</td>\n",
       "    </tr>\n",
       "    <tr>\n",
       "      <th>M</th>\n",
       "      <td>40</td>\n",
       "      <td>168</td>\n",
       "      <td>479</td>\n",
       "    </tr>\n",
       "    <tr>\n",
       "      <th>T</th>\n",
       "      <td>1</td>\n",
       "      <td>0</td>\n",
       "      <td>0</td>\n",
       "    </tr>\n",
       "  </tbody>\n",
       "</table>\n",
       "</div>"
      ],
      "text/plain": [
       "Pclass   1    2    3\n",
       "Deck                \n",
       "A       15    0    0\n",
       "B       47    0    0\n",
       "C       59    0    0\n",
       "D       29    4    0\n",
       "E       25    4    3\n",
       "F        0    8    5\n",
       "G        0    0    4\n",
       "M       40  168  479\n",
       "T        1    0    0"
      ]
     },
     "execution_count": 677,
     "metadata": {},
     "output_type": "execute_result"
    }
   ],
   "source": [
    "pd.crosstab(train_pre_2['Deck'],train_pre_2['Pclass'])"
   ]
  },
  {
   "cell_type": "markdown",
   "metadata": {},
   "source": [
    "**Conclusion: feature extraction**\n",
    "\n",
    "\n",
    "- Titles are divided into four categories (Married, Single, Officer and others).\n",
    "- Family members computed from number of siblings and parents/children would be useful in understanding whether there is a correlation of survival with traveling together.\n",
    "- Ticket frequency is used in analyzing data instead of ticket number.\n",
    "- Deck is being found out from the cabin numbers and for missing cabins, we have defined the deck as 'M'.\n",
    "\n",
    "Now, we would move to understand the correlation of output with input variables. "
   ]
  },
  {
   "cell_type": "markdown",
   "metadata": {},
   "source": [
    "# Input vs. output"
   ]
  },
  {
   "cell_type": "markdown",
   "metadata": {},
   "source": [
    "We would divide this analysis into two section depending on the data types of input variables:\n",
    "1. Categorical or object type input variables: We are crosstab and countplot for it.\n",
    "2. Numerical input variables: (Age, fare, family members) \n",
    "\n",
    "## Categorical Input vs. output\n",
    "\n",
    "We have sufficient informaiton of four variables (Sex, Pclass, Embarked, Title) but data of cabin is missing. In this section, steps to understand Deck and Cabin are also invovled. The analysis is presented both in tabular and figure format."
   ]
  },
  {
   "cell_type": "code",
   "execution_count": 30,
   "metadata": {},
   "outputs": [
    {
     "data": {
      "text/html": [
       "<div>\n",
       "<style scoped>\n",
       "    .dataframe tbody tr th:only-of-type {\n",
       "        vertical-align: middle;\n",
       "    }\n",
       "\n",
       "    .dataframe tbody tr th {\n",
       "        vertical-align: top;\n",
       "    }\n",
       "\n",
       "    .dataframe thead th {\n",
       "        text-align: right;\n",
       "    }\n",
       "</style>\n",
       "<table border=\"1\" class=\"dataframe\">\n",
       "  <thead>\n",
       "    <tr style=\"text-align: right;\">\n",
       "      <th>Survived</th>\n",
       "      <th>0</th>\n",
       "      <th>1</th>\n",
       "    </tr>\n",
       "    <tr>\n",
       "      <th>Sex</th>\n",
       "      <th></th>\n",
       "      <th></th>\n",
       "    </tr>\n",
       "  </thead>\n",
       "  <tbody>\n",
       "    <tr>\n",
       "      <th>female</th>\n",
       "      <td>81</td>\n",
       "      <td>233</td>\n",
       "    </tr>\n",
       "    <tr>\n",
       "      <th>male</th>\n",
       "      <td>468</td>\n",
       "      <td>109</td>\n",
       "    </tr>\n",
       "  </tbody>\n",
       "</table>\n",
       "</div>"
      ],
      "text/plain": [
       "Survived    0    1\n",
       "Sex               \n",
       "female     81  233\n",
       "male      468  109"
      ]
     },
     "execution_count": 30,
     "metadata": {},
     "output_type": "execute_result"
    }
   ],
   "source": [
    "pd.crosstab(train_pre_2['Sex'],train_pre_2['Survived'])"
   ]
  },
  {
   "cell_type": "code",
   "execution_count": 31,
   "metadata": {},
   "outputs": [
    {
     "data": {
      "text/html": [
       "<div>\n",
       "<style scoped>\n",
       "    .dataframe tbody tr th:only-of-type {\n",
       "        vertical-align: middle;\n",
       "    }\n",
       "\n",
       "    .dataframe tbody tr th {\n",
       "        vertical-align: top;\n",
       "    }\n",
       "\n",
       "    .dataframe thead th {\n",
       "        text-align: right;\n",
       "    }\n",
       "</style>\n",
       "<table border=\"1\" class=\"dataframe\">\n",
       "  <thead>\n",
       "    <tr style=\"text-align: right;\">\n",
       "      <th>Survived</th>\n",
       "      <th>0</th>\n",
       "      <th>1</th>\n",
       "    </tr>\n",
       "    <tr>\n",
       "      <th>Embarked</th>\n",
       "      <th></th>\n",
       "      <th></th>\n",
       "    </tr>\n",
       "  </thead>\n",
       "  <tbody>\n",
       "    <tr>\n",
       "      <th>C</th>\n",
       "      <td>75</td>\n",
       "      <td>93</td>\n",
       "    </tr>\n",
       "    <tr>\n",
       "      <th>Q</th>\n",
       "      <td>47</td>\n",
       "      <td>30</td>\n",
       "    </tr>\n",
       "    <tr>\n",
       "      <th>S</th>\n",
       "      <td>427</td>\n",
       "      <td>219</td>\n",
       "    </tr>\n",
       "  </tbody>\n",
       "</table>\n",
       "</div>"
      ],
      "text/plain": [
       "Survived    0    1\n",
       "Embarked          \n",
       "C          75   93\n",
       "Q          47   30\n",
       "S         427  219"
      ]
     },
     "execution_count": 31,
     "metadata": {},
     "output_type": "execute_result"
    }
   ],
   "source": [
    "pd.crosstab(train_pre_2['Embarked'],train_pre_2['Survived'])"
   ]
  },
  {
   "cell_type": "code",
   "execution_count": 32,
   "metadata": {},
   "outputs": [
    {
     "data": {
      "text/html": [
       "<div>\n",
       "<style scoped>\n",
       "    .dataframe tbody tr th:only-of-type {\n",
       "        vertical-align: middle;\n",
       "    }\n",
       "\n",
       "    .dataframe tbody tr th {\n",
       "        vertical-align: top;\n",
       "    }\n",
       "\n",
       "    .dataframe thead th {\n",
       "        text-align: right;\n",
       "    }\n",
       "</style>\n",
       "<table border=\"1\" class=\"dataframe\">\n",
       "  <thead>\n",
       "    <tr style=\"text-align: right;\">\n",
       "      <th>Survived</th>\n",
       "      <th>0</th>\n",
       "      <th>1</th>\n",
       "    </tr>\n",
       "    <tr>\n",
       "      <th>Pclass</th>\n",
       "      <th></th>\n",
       "      <th></th>\n",
       "    </tr>\n",
       "  </thead>\n",
       "  <tbody>\n",
       "    <tr>\n",
       "      <th>1</th>\n",
       "      <td>80</td>\n",
       "      <td>136</td>\n",
       "    </tr>\n",
       "    <tr>\n",
       "      <th>2</th>\n",
       "      <td>97</td>\n",
       "      <td>87</td>\n",
       "    </tr>\n",
       "    <tr>\n",
       "      <th>3</th>\n",
       "      <td>372</td>\n",
       "      <td>119</td>\n",
       "    </tr>\n",
       "  </tbody>\n",
       "</table>\n",
       "</div>"
      ],
      "text/plain": [
       "Survived    0    1\n",
       "Pclass            \n",
       "1          80  136\n",
       "2          97   87\n",
       "3         372  119"
      ]
     },
     "execution_count": 32,
     "metadata": {},
     "output_type": "execute_result"
    }
   ],
   "source": [
    "pd.crosstab(train_pre_2['Pclass'],train_pre_2['Survived'])\n",
    "# 136/(136+80)\n",
    "# 119/(17)"
   ]
  },
  {
   "cell_type": "code",
   "execution_count": 125,
   "metadata": {},
   "outputs": [
    {
     "data": {
      "text/html": [
       "<div>\n",
       "<style scoped>\n",
       "    .dataframe tbody tr th:only-of-type {\n",
       "        vertical-align: middle;\n",
       "    }\n",
       "\n",
       "    .dataframe tbody tr th {\n",
       "        vertical-align: top;\n",
       "    }\n",
       "\n",
       "    .dataframe thead th {\n",
       "        text-align: right;\n",
       "    }\n",
       "</style>\n",
       "<table border=\"1\" class=\"dataframe\">\n",
       "  <thead>\n",
       "    <tr style=\"text-align: right;\">\n",
       "      <th>Survived</th>\n",
       "      <th>0</th>\n",
       "      <th>1</th>\n",
       "    </tr>\n",
       "    <tr>\n",
       "      <th>Title_cat</th>\n",
       "      <th></th>\n",
       "      <th></th>\n",
       "    </tr>\n",
       "  </thead>\n",
       "  <tbody>\n",
       "    <tr>\n",
       "      <th>Married</th>\n",
       "      <td>462</td>\n",
       "      <td>180</td>\n",
       "    </tr>\n",
       "    <tr>\n",
       "      <th>Officer</th>\n",
       "      <td>14</td>\n",
       "      <td>8</td>\n",
       "    </tr>\n",
       "    <tr>\n",
       "      <th>Others</th>\n",
       "      <td>1</td>\n",
       "      <td>0</td>\n",
       "    </tr>\n",
       "    <tr>\n",
       "      <th>Single</th>\n",
       "      <td>72</td>\n",
       "      <td>154</td>\n",
       "    </tr>\n",
       "  </tbody>\n",
       "</table>\n",
       "</div>"
      ],
      "text/plain": [
       "Survived     0    1\n",
       "Title_cat          \n",
       "Married    462  180\n",
       "Officer     14    8\n",
       "Others       1    0\n",
       "Single      72  154"
      ]
     },
     "execution_count": 125,
     "metadata": {},
     "output_type": "execute_result"
    }
   ],
   "source": [
    "pd.crosstab(train_pre_2['Title_cat'],train_pre_2['Survived'])"
   ]
  },
  {
   "cell_type": "markdown",
   "metadata": {},
   "source": [
    "**Plotting the figures**"
   ]
  },
  {
   "cell_type": "code",
   "execution_count": 33,
   "metadata": {},
   "outputs": [
    {
     "data": {
      "image/png": "[encoded data removed]",
      "text/plain": [
       "<Figure size 504x360 with 4 Axes>"
      ]
     },
     "metadata": {},
     "output_type": "display_data"
    }
   ],
   "source": [
    "fig, ax =plt.subplots(2,2, figsize = (7,5))\n",
    "g = sns.countplot(x = 'Sex',   hue = 'Survived', data = train_pre_2, ax = ax[0,1])\n",
    "\n",
    "# ax2 = fig.add_subplot(122)\n",
    "g = sns.countplot(x = 'Pclass',   hue = 'Survived', data = train_pre_2, ax = ax[0,0])\n",
    "g = sns.countplot(x = 'Embarked',  hue = 'Survived', data = train_pre_2, ax = ax[1,0])\n",
    "g = sns.countplot(x = 'Title_cat',  hue = 'Survived', data = train_pre_2, ax = ax[1,1])\n",
    "# plt.close(2)\n",
    "# plt.close(3)\n",
    "plt.tight_layout()"
   ]
  },
  {
   "cell_type": "markdown",
   "metadata": {},
   "source": [
    "**Cabin data analysis**"
   ]
  },
  {
   "cell_type": "code",
   "execution_count": 678,
   "metadata": {},
   "outputs": [
    {
     "data": {
      "text/html": [
       "<div>\n",
       "<style scoped>\n",
       "    .dataframe tbody tr th:only-of-type {\n",
       "        vertical-align: middle;\n",
       "    }\n",
       "\n",
       "    .dataframe tbody tr th {\n",
       "        vertical-align: top;\n",
       "    }\n",
       "\n",
       "    .dataframe thead th {\n",
       "        text-align: right;\n",
       "    }\n",
       "</style>\n",
       "<table border=\"1\" class=\"dataframe\">\n",
       "  <thead>\n",
       "    <tr style=\"text-align: right;\">\n",
       "      <th>Survived</th>\n",
       "      <th>0</th>\n",
       "      <th>1</th>\n",
       "    </tr>\n",
       "    <tr>\n",
       "      <th>Deck</th>\n",
       "      <th></th>\n",
       "      <th></th>\n",
       "    </tr>\n",
       "  </thead>\n",
       "  <tbody>\n",
       "    <tr>\n",
       "      <th>A</th>\n",
       "      <td>8</td>\n",
       "      <td>7</td>\n",
       "    </tr>\n",
       "    <tr>\n",
       "      <th>B</th>\n",
       "      <td>12</td>\n",
       "      <td>35</td>\n",
       "    </tr>\n",
       "    <tr>\n",
       "      <th>C</th>\n",
       "      <td>24</td>\n",
       "      <td>35</td>\n",
       "    </tr>\n",
       "    <tr>\n",
       "      <th>D</th>\n",
       "      <td>8</td>\n",
       "      <td>25</td>\n",
       "    </tr>\n",
       "    <tr>\n",
       "      <th>E</th>\n",
       "      <td>8</td>\n",
       "      <td>24</td>\n",
       "    </tr>\n",
       "    <tr>\n",
       "      <th>F</th>\n",
       "      <td>5</td>\n",
       "      <td>8</td>\n",
       "    </tr>\n",
       "    <tr>\n",
       "      <th>G</th>\n",
       "      <td>2</td>\n",
       "      <td>2</td>\n",
       "    </tr>\n",
       "    <tr>\n",
       "      <th>M</th>\n",
       "      <td>481</td>\n",
       "      <td>206</td>\n",
       "    </tr>\n",
       "    <tr>\n",
       "      <th>T</th>\n",
       "      <td>1</td>\n",
       "      <td>0</td>\n",
       "    </tr>\n",
       "  </tbody>\n",
       "</table>\n",
       "</div>"
      ],
      "text/plain": [
       "Survived    0    1\n",
       "Deck              \n",
       "A           8    7\n",
       "B          12   35\n",
       "C          24   35\n",
       "D           8   25\n",
       "E           8   24\n",
       "F           5    8\n",
       "G           2    2\n",
       "M         481  206\n",
       "T           1    0"
      ]
     },
     "execution_count": 678,
     "metadata": {},
     "output_type": "execute_result"
    }
   ],
   "source": [
    "pd.crosstab(train_pre_2['Deck'],train_pre_2['Survived'])"
   ]
  },
  {
   "cell_type": "code",
   "execution_count": 168,
   "metadata": {},
   "outputs": [
    {
     "data": {
      "text/html": [
       "<div>\n",
       "<style scoped>\n",
       "    .dataframe tbody tr th:only-of-type {\n",
       "        vertical-align: middle;\n",
       "    }\n",
       "\n",
       "    .dataframe tbody tr th {\n",
       "        vertical-align: top;\n",
       "    }\n",
       "\n",
       "    .dataframe thead th {\n",
       "        text-align: right;\n",
       "    }\n",
       "</style>\n",
       "<table border=\"1\" class=\"dataframe\">\n",
       "  <thead>\n",
       "    <tr style=\"text-align: right;\">\n",
       "      <th></th>\n",
       "      <th>Ticket</th>\n",
       "      <th>Embarked</th>\n",
       "    </tr>\n",
       "  </thead>\n",
       "  <tbody>\n",
       "    <tr>\n",
       "      <th>1</th>\n",
       "      <td>PC 17599</td>\n",
       "      <td>C</td>\n",
       "    </tr>\n",
       "    <tr>\n",
       "      <th>3</th>\n",
       "      <td>113803</td>\n",
       "      <td>S</td>\n",
       "    </tr>\n",
       "    <tr>\n",
       "      <th>11</th>\n",
       "      <td>113783</td>\n",
       "      <td>S</td>\n",
       "    </tr>\n",
       "    <tr>\n",
       "      <th>23</th>\n",
       "      <td>113788</td>\n",
       "      <td>S</td>\n",
       "    </tr>\n",
       "    <tr>\n",
       "      <th>27</th>\n",
       "      <td>19950</td>\n",
       "      <td>S</td>\n",
       "    </tr>\n",
       "    <tr>\n",
       "      <th>...</th>\n",
       "      <td>...</td>\n",
       "      <td>...</td>\n",
       "    </tr>\n",
       "    <tr>\n",
       "      <th>867</th>\n",
       "      <td>PC 17590</td>\n",
       "      <td>S</td>\n",
       "    </tr>\n",
       "    <tr>\n",
       "      <th>872</th>\n",
       "      <td>695</td>\n",
       "      <td>S</td>\n",
       "    </tr>\n",
       "    <tr>\n",
       "      <th>879</th>\n",
       "      <td>11767</td>\n",
       "      <td>C</td>\n",
       "    </tr>\n",
       "    <tr>\n",
       "      <th>887</th>\n",
       "      <td>112053</td>\n",
       "      <td>S</td>\n",
       "    </tr>\n",
       "    <tr>\n",
       "      <th>889</th>\n",
       "      <td>111369</td>\n",
       "      <td>C</td>\n",
       "    </tr>\n",
       "  </tbody>\n",
       "</table>\n",
       "<p>121 rows × 2 columns</p>\n",
       "</div>"
      ],
      "text/plain": [
       "       Ticket Embarked\n",
       "1    PC 17599        C\n",
       "3      113803        S\n",
       "11     113783        S\n",
       "23     113788        S\n",
       "27      19950        S\n",
       "..        ...      ...\n",
       "867  PC 17590        S\n",
       "872       695        S\n",
       "879     11767        C\n",
       "887    112053        S\n",
       "889    111369        C\n",
       "\n",
       "[121 rows x 2 columns]"
      ]
     },
     "execution_count": 168,
     "metadata": {},
     "output_type": "execute_result"
    }
   ],
   "source": [
    "train_pre_2[(train_pre_2['Deck']=='C')|(train_pre_2['Deck']=='A')|(train_pre_2['Deck']=='B')][['Ticket','Embarked']]"
   ]
  },
  {
   "cell_type": "code",
   "execution_count": 35,
   "metadata": {},
   "outputs": [
    {
     "data": {
      "text/html": [
       "<div>\n",
       "<style scoped>\n",
       "    .dataframe tbody tr th:only-of-type {\n",
       "        vertical-align: middle;\n",
       "    }\n",
       "\n",
       "    .dataframe tbody tr th {\n",
       "        vertical-align: top;\n",
       "    }\n",
       "\n",
       "    .dataframe thead th {\n",
       "        text-align: right;\n",
       "    }\n",
       "</style>\n",
       "<table border=\"1\" class=\"dataframe\">\n",
       "  <thead>\n",
       "    <tr style=\"text-align: right;\">\n",
       "      <th></th>\n",
       "      <th>Ticket</th>\n",
       "    </tr>\n",
       "  </thead>\n",
       "  <tbody>\n",
       "    <tr>\n",
       "      <th>1</th>\n",
       "      <td>PC 17599</td>\n",
       "    </tr>\n",
       "    <tr>\n",
       "      <th>3</th>\n",
       "      <td>113803</td>\n",
       "    </tr>\n",
       "    <tr>\n",
       "      <th>6</th>\n",
       "      <td>17463</td>\n",
       "    </tr>\n",
       "    <tr>\n",
       "      <th>11</th>\n",
       "      <td>113783</td>\n",
       "    </tr>\n",
       "    <tr>\n",
       "      <th>23</th>\n",
       "      <td>113788</td>\n",
       "    </tr>\n",
       "    <tr>\n",
       "      <th>...</th>\n",
       "      <td>...</td>\n",
       "    </tr>\n",
       "    <tr>\n",
       "      <th>871</th>\n",
       "      <td>11751</td>\n",
       "    </tr>\n",
       "    <tr>\n",
       "      <th>872</th>\n",
       "      <td>695</td>\n",
       "    </tr>\n",
       "    <tr>\n",
       "      <th>879</th>\n",
       "      <td>11767</td>\n",
       "    </tr>\n",
       "    <tr>\n",
       "      <th>887</th>\n",
       "      <td>112053</td>\n",
       "    </tr>\n",
       "    <tr>\n",
       "      <th>889</th>\n",
       "      <td>111369</td>\n",
       "    </tr>\n",
       "  </tbody>\n",
       "</table>\n",
       "<p>216 rows × 1 columns</p>\n",
       "</div>"
      ],
      "text/plain": [
       "       Ticket\n",
       "1    PC 17599\n",
       "3      113803\n",
       "6       17463\n",
       "11     113783\n",
       "23     113788\n",
       "..        ...\n",
       "871     11751\n",
       "872       695\n",
       "879     11767\n",
       "887    112053\n",
       "889    111369\n",
       "\n",
       "[216 rows x 1 columns]"
      ]
     },
     "execution_count": 35,
     "metadata": {},
     "output_type": "execute_result"
    }
   ],
   "source": [
    "train_pre_2[(train_pre_2['Pclass']==1)][['Ticket']]"
   ]
  },
  {
   "cell_type": "code",
   "execution_count": 1368,
   "metadata": {},
   "outputs": [],
   "source": [
    "# train_pre_2[['Ticket','Cabin']]\n",
    "# train_pre_2['Ticket'] == 211536]"
   ]
  },
  {
   "cell_type": "markdown",
   "metadata": {},
   "source": [
    "### Conclusion:  Categorical input variables vs output\n",
    "\n",
    "**Sex Analysis**\n",
    "- Female (total 314): 81 (didn't survive) and 233 surive (survival rate = 74%)\n",
    "- Males (total 577): 468 (didn't survive) and 109 survive (survival rate = 18%)\n",
    "\n",
    "\n",
    "**Embarked analysis**\n",
    "- C (total 168): 75 (didn't survive) and 93 survive (Survival rate = 55%)\n",
    "- Q (total 77): 47 (didn't survive) and 30 survive (Survival rate = 63%)\n",
    "- S (total 644): 427 (didn't survive) and 219 survive (Survival rate = 33.7%)\n",
    "                  \n",
    "\n",
    "**Pclass Analysis**\n",
    "- Class 1: 80 (didn't survive) and 136 survived (survival rate = 62%)\n",
    "- Class 2: 97 (didn't survive) and 87 survived (survival rate = 47%)\n",
    "- Class 3: 372 (didn't survive) and 119 survived (survival rate = 24%)\n",
    "\n",
    "**Title analysis**\n",
    "- Married (Mr and Mrs.): 462 didn't survive while 180 survive \n",
    "- Officer (various ranks): 14 didn't survive while 8 survived\n",
    "- Single: 72 didn't survive while 154 survived.\n",
    "                \n",
    "**Preliminary Conclusions**              \n",
    "- First class passengers have the highest survival chances among all three classes.\n",
    "- Passengers boarding from Q had the highest survival rate.  \n",
    "- It means there is a **strong correlation with the sex of traveller to the survival chances**. Female has higher survival rate than male.\n",
    "\n",
    "\n"
   ]
  },
  {
   "cell_type": "markdown",
   "metadata": {},
   "source": [
    "## Output with numerical input variables\n",
    "\n",
    "- In this section, we would understand the effect of Family members, Fare, and Age on Survived.\n",
    "- First, we analyzed with continous values of fare and age. Then, they were divided into categories and found that it is more relevant.\n"
   ]
  },
  {
   "cell_type": "code",
   "execution_count": 36,
   "metadata": {},
   "outputs": [
    {
     "data": {
      "text/plain": [
       "<AxesSubplot:xlabel='Survived', ylabel='Family_member'>"
      ]
     },
     "execution_count": 36,
     "metadata": {},
     "output_type": "execute_result"
    },
    {
     "data": {
      "image/png": "[encoded data removed]",
      "text/plain": [
       "<Figure size 1080x504 with 3 Axes>"
      ]
     },
     "metadata": {},
     "output_type": "display_data"
    }
   ],
   "source": [
    "# plt.subplot(1,2,1)\n",
    "f, axes = plt.subplots(1, 3, figsize=(15, 7))\n",
    "# sns.despine(left=True)\n",
    "sns.swarmplot(x = 'Survived', y = 'Fare', hue = 'Sex',  data = train_pre_2, alpha = 0.5, ax=axes[0])\n",
    "sns.swarmplot(x = 'Survived', y = 'Age', hue = 'Sex',  data = train_pre_2, alpha = 0.5, ax=axes[1])\n",
    "sns.swarmplot(x = 'Survived', y = 'Family_member', hue = 'Sex',  data = train_pre_2, alpha = 0.5, ax=axes[2])\n",
    "# sns.swarmplot(x = 'Survived', y = 'SibSp', hue = 'Sex',  data = train_pre_2, alpha = 0.3, ax=axes[1, 1])\n",
    "# sns.swarmplot(x = 'Survived', y = 'Parch', hue = 'Sex',  data = train_pre_2, alpha = 0.3, ax=axes[1,0])\n",
    "# train[['Fare']].describe()"
   ]
  },
  {
   "cell_type": "markdown",
   "metadata": {},
   "source": [
    "Though we don't see direct correlation with fare and number of family members but there seems to be correlation with age. Let's further analyze it while spliting the age into groups.\n",
    "\n",
    "**Converting continous input variables to categorical input variables**"
   ]
  },
  {
   "cell_type": "code",
   "execution_count": 37,
   "metadata": {},
   "outputs": [
    {
     "data": {
      "text/html": [
       "<div>\n",
       "<style scoped>\n",
       "    .dataframe tbody tr th:only-of-type {\n",
       "        vertical-align: middle;\n",
       "    }\n",
       "\n",
       "    .dataframe tbody tr th {\n",
       "        vertical-align: top;\n",
       "    }\n",
       "\n",
       "    .dataframe thead th {\n",
       "        text-align: right;\n",
       "    }\n",
       "</style>\n",
       "<table border=\"1\" class=\"dataframe\">\n",
       "  <thead>\n",
       "    <tr style=\"text-align: right;\">\n",
       "      <th>Survived</th>\n",
       "      <th>0</th>\n",
       "      <th>1</th>\n",
       "    </tr>\n",
       "    <tr>\n",
       "      <th>Age_cat</th>\n",
       "      <th></th>\n",
       "      <th></th>\n",
       "    </tr>\n",
       "  </thead>\n",
       "  <tbody>\n",
       "    <tr>\n",
       "      <th>Baby</th>\n",
       "      <td>13</td>\n",
       "      <td>31</td>\n",
       "    </tr>\n",
       "    <tr>\n",
       "      <th>Child</th>\n",
       "      <td>21</td>\n",
       "      <td>18</td>\n",
       "    </tr>\n",
       "    <tr>\n",
       "      <th>Young</th>\n",
       "      <td>245</td>\n",
       "      <td>109</td>\n",
       "    </tr>\n",
       "    <tr>\n",
       "      <th>Adult</th>\n",
       "      <td>205</td>\n",
       "      <td>146</td>\n",
       "    </tr>\n",
       "    <tr>\n",
       "      <th>Old</th>\n",
       "      <td>48</td>\n",
       "      <td>33</td>\n",
       "    </tr>\n",
       "    <tr>\n",
       "      <th>Senior</th>\n",
       "      <td>17</td>\n",
       "      <td>5</td>\n",
       "    </tr>\n",
       "  </tbody>\n",
       "</table>\n",
       "</div>"
      ],
      "text/plain": [
       "Survived    0    1\n",
       "Age_cat           \n",
       "Baby       13   31\n",
       "Child      21   18\n",
       "Young     245  109\n",
       "Adult     205  146\n",
       "Old        48   33\n",
       "Senior     17    5"
      ]
     },
     "execution_count": 37,
     "metadata": {},
     "output_type": "execute_result"
    }
   ],
   "source": [
    "bins_age = [0, 5, 15, 25, 45, 60, 80]\n",
    "label_age = ['Baby','Child','Young','Adult','Old','Senior']\n",
    "train_pre_2['Age_cat'] = pd.cut(train_pre_2['Age'], bins = bins_age, labels = label_age)\n",
    "pd.crosstab(train_pre_2['Age_cat'],train_pre_2['Survived'])"
   ]
  },
  {
   "cell_type": "code",
   "execution_count": 38,
   "metadata": {},
   "outputs": [
    {
     "data": {
      "text/plain": [
       "<AxesSubplot:>"
      ]
     },
     "execution_count": 38,
     "metadata": {},
     "output_type": "execute_result"
    },
    {
     "data": {
      "image/png": "[encoded data removed]",
      "text/plain": [
       "<Figure size 432x288 with 1 Axes>"
      ]
     },
     "metadata": {},
     "output_type": "display_data"
    }
   ],
   "source": [
    "train_pre_2['Fare'].hist(bins = 10)"
   ]
  },
  {
   "cell_type": "code",
   "execution_count": 39,
   "metadata": {},
   "outputs": [
    {
     "data": {
      "text/html": [
       "<div>\n",
       "<style scoped>\n",
       "    .dataframe tbody tr th:only-of-type {\n",
       "        vertical-align: middle;\n",
       "    }\n",
       "\n",
       "    .dataframe tbody tr th {\n",
       "        vertical-align: top;\n",
       "    }\n",
       "\n",
       "    .dataframe thead th {\n",
       "        text-align: right;\n",
       "    }\n",
       "</style>\n",
       "<table border=\"1\" class=\"dataframe\">\n",
       "  <thead>\n",
       "    <tr style=\"text-align: right;\">\n",
       "      <th>Survived</th>\n",
       "      <th>0</th>\n",
       "      <th>1</th>\n",
       "    </tr>\n",
       "    <tr>\n",
       "      <th>Fare_cat</th>\n",
       "      <th></th>\n",
       "      <th></th>\n",
       "    </tr>\n",
       "  </thead>\n",
       "  <tbody>\n",
       "    <tr>\n",
       "      <th>Very Low</th>\n",
       "      <td>358</td>\n",
       "      <td>142</td>\n",
       "    </tr>\n",
       "    <tr>\n",
       "      <th>Low</th>\n",
       "      <td>114</td>\n",
       "      <td>86</td>\n",
       "    </tr>\n",
       "    <tr>\n",
       "      <th>Medium</th>\n",
       "      <td>40</td>\n",
       "      <td>39</td>\n",
       "    </tr>\n",
       "    <tr>\n",
       "      <th>High</th>\n",
       "      <td>9</td>\n",
       "      <td>35</td>\n",
       "    </tr>\n",
       "    <tr>\n",
       "      <th>Expensive</th>\n",
       "      <td>14</td>\n",
       "      <td>39</td>\n",
       "    </tr>\n",
       "  </tbody>\n",
       "</table>\n",
       "</div>"
      ],
      "text/plain": [
       "Survived     0    1\n",
       "Fare_cat           \n",
       "Very Low   358  142\n",
       "Low        114   86\n",
       "Medium      40   39\n",
       "High         9   35\n",
       "Expensive   14   39"
      ]
     },
     "execution_count": 39,
     "metadata": {},
     "output_type": "execute_result"
    }
   ],
   "source": [
    "bins_fare = [0, 20, 40, 75, 100, 600]\n",
    "label_fare = ['Very Low','Low','Medium','High','Expensive']\n",
    "train_pre_2['Fare_cat'] = pd.cut(train_pre_2['Fare'], bins = bins_fare, labels = label_fare)\n",
    "pd.crosstab(train_pre_2['Fare_cat'],train_pre_2['Survived'])\n",
    "# train_pre_2['Fare_cat'].unique()\n",
    "# train_pre_2['Fare'].describe()"
   ]
  },
  {
   "cell_type": "code",
   "execution_count": 40,
   "metadata": {},
   "outputs": [
    {
     "data": {
      "text/html": [
       "<div>\n",
       "<style scoped>\n",
       "    .dataframe tbody tr th:only-of-type {\n",
       "        vertical-align: middle;\n",
       "    }\n",
       "\n",
       "    .dataframe tbody tr th {\n",
       "        vertical-align: top;\n",
       "    }\n",
       "\n",
       "    .dataframe thead th {\n",
       "        text-align: right;\n",
       "    }\n",
       "</style>\n",
       "<table border=\"1\" class=\"dataframe\">\n",
       "  <thead>\n",
       "    <tr style=\"text-align: right;\">\n",
       "      <th>Survived</th>\n",
       "      <th>0</th>\n",
       "      <th>1</th>\n",
       "    </tr>\n",
       "    <tr>\n",
       "      <th>Family_member</th>\n",
       "      <th></th>\n",
       "      <th></th>\n",
       "    </tr>\n",
       "  </thead>\n",
       "  <tbody>\n",
       "    <tr>\n",
       "      <th>1</th>\n",
       "      <td>374</td>\n",
       "      <td>163</td>\n",
       "    </tr>\n",
       "    <tr>\n",
       "      <th>2</th>\n",
       "      <td>72</td>\n",
       "      <td>89</td>\n",
       "    </tr>\n",
       "    <tr>\n",
       "      <th>3</th>\n",
       "      <td>43</td>\n",
       "      <td>59</td>\n",
       "    </tr>\n",
       "    <tr>\n",
       "      <th>4</th>\n",
       "      <td>8</td>\n",
       "      <td>21</td>\n",
       "    </tr>\n",
       "    <tr>\n",
       "      <th>5</th>\n",
       "      <td>12</td>\n",
       "      <td>3</td>\n",
       "    </tr>\n",
       "    <tr>\n",
       "      <th>6</th>\n",
       "      <td>19</td>\n",
       "      <td>3</td>\n",
       "    </tr>\n",
       "    <tr>\n",
       "      <th>7</th>\n",
       "      <td>8</td>\n",
       "      <td>4</td>\n",
       "    </tr>\n",
       "    <tr>\n",
       "      <th>8</th>\n",
       "      <td>6</td>\n",
       "      <td>0</td>\n",
       "    </tr>\n",
       "    <tr>\n",
       "      <th>11</th>\n",
       "      <td>7</td>\n",
       "      <td>0</td>\n",
       "    </tr>\n",
       "  </tbody>\n",
       "</table>\n",
       "</div>"
      ],
      "text/plain": [
       "Survived         0    1\n",
       "Family_member          \n",
       "1              374  163\n",
       "2               72   89\n",
       "3               43   59\n",
       "4                8   21\n",
       "5               12    3\n",
       "6               19    3\n",
       "7                8    4\n",
       "8                6    0\n",
       "11               7    0"
      ]
     },
     "execution_count": 40,
     "metadata": {},
     "output_type": "execute_result"
    }
   ],
   "source": [
    "pd.crosstab(train_pre_2['Family_member'],train_pre_2['Survived'])"
   ]
  },
  {
   "cell_type": "code",
   "execution_count": 41,
   "metadata": {},
   "outputs": [
    {
     "data": {
      "text/html": [
       "<div>\n",
       "<style scoped>\n",
       "    .dataframe tbody tr th:only-of-type {\n",
       "        vertical-align: middle;\n",
       "    }\n",
       "\n",
       "    .dataframe tbody tr th {\n",
       "        vertical-align: top;\n",
       "    }\n",
       "\n",
       "    .dataframe thead th {\n",
       "        text-align: right;\n",
       "    }\n",
       "</style>\n",
       "<table border=\"1\" class=\"dataframe\">\n",
       "  <thead>\n",
       "    <tr style=\"text-align: right;\">\n",
       "      <th>Pclass</th>\n",
       "      <th>1</th>\n",
       "      <th>2</th>\n",
       "      <th>3</th>\n",
       "    </tr>\n",
       "    <tr>\n",
       "      <th>Family_member</th>\n",
       "      <th></th>\n",
       "      <th></th>\n",
       "      <th></th>\n",
       "    </tr>\n",
       "  </thead>\n",
       "  <tbody>\n",
       "    <tr>\n",
       "      <th>1</th>\n",
       "      <td>109</td>\n",
       "      <td>104</td>\n",
       "      <td>324</td>\n",
       "    </tr>\n",
       "    <tr>\n",
       "      <th>2</th>\n",
       "      <td>70</td>\n",
       "      <td>34</td>\n",
       "      <td>57</td>\n",
       "    </tr>\n",
       "    <tr>\n",
       "      <th>3</th>\n",
       "      <td>24</td>\n",
       "      <td>31</td>\n",
       "      <td>47</td>\n",
       "    </tr>\n",
       "    <tr>\n",
       "      <th>4</th>\n",
       "      <td>7</td>\n",
       "      <td>13</td>\n",
       "      <td>9</td>\n",
       "    </tr>\n",
       "    <tr>\n",
       "      <th>5</th>\n",
       "      <td>2</td>\n",
       "      <td>1</td>\n",
       "      <td>12</td>\n",
       "    </tr>\n",
       "    <tr>\n",
       "      <th>6</th>\n",
       "      <td>4</td>\n",
       "      <td>1</td>\n",
       "      <td>17</td>\n",
       "    </tr>\n",
       "    <tr>\n",
       "      <th>7</th>\n",
       "      <td>0</td>\n",
       "      <td>0</td>\n",
       "      <td>12</td>\n",
       "    </tr>\n",
       "    <tr>\n",
       "      <th>8</th>\n",
       "      <td>0</td>\n",
       "      <td>0</td>\n",
       "      <td>6</td>\n",
       "    </tr>\n",
       "    <tr>\n",
       "      <th>11</th>\n",
       "      <td>0</td>\n",
       "      <td>0</td>\n",
       "      <td>7</td>\n",
       "    </tr>\n",
       "  </tbody>\n",
       "</table>\n",
       "</div>"
      ],
      "text/plain": [
       "Pclass           1    2    3\n",
       "Family_member               \n",
       "1              109  104  324\n",
       "2               70   34   57\n",
       "3               24   31   47\n",
       "4                7   13    9\n",
       "5                2    1   12\n",
       "6                4    1   17\n",
       "7                0    0   12\n",
       "8                0    0    6\n",
       "11               0    0    7"
      ]
     },
     "execution_count": 41,
     "metadata": {},
     "output_type": "execute_result"
    }
   ],
   "source": [
    "pd.crosstab(train_pre_2['Family_member'],train_pre_2['Pclass'])"
   ]
  },
  {
   "cell_type": "code",
   "execution_count": 42,
   "metadata": {},
   "outputs": [
    {
     "data": {
      "image/png": "[encoded data removed]",
      "text/plain": [
       "<Figure size 504x360 with 4 Axes>"
      ]
     },
     "metadata": {},
     "output_type": "display_data"
    }
   ],
   "source": [
    "fig, ax =plt.subplots(2,2, figsize = (7,5))\n",
    "g = sns.countplot(x = 'Age_cat',   hue = 'Survived', data = train_pre_2, ax = ax[0,1])\n",
    "g = sns.countplot(x = 'Fare_cat',   hue = 'Survived', data = train_pre_2, ax = ax[0,0])\n",
    "g = sns.countplot(x = 'Family_member',   hue = 'Survived', data = train_pre_2, ax = ax[1,0])"
   ]
  },
  {
   "cell_type": "code",
   "execution_count": 43,
   "metadata": {},
   "outputs": [],
   "source": [
    "# pd.cut(train_pre_2['Age'], bins = bins).value_counts()"
   ]
  },
  {
   "cell_type": "markdown",
   "metadata": {},
   "source": [
    "### Conclusion: Categorical input variables to output\n",
    "\n",
    "**Fare dependence**\n",
    "- We have cut fare into five categories for values between (0-20, 20-40, 40-75, 75-100, 100-600) and named them as (Very low, low, medium, high, expensive). In 'very low' category, survival rate is almost 33% while in low it is 50%. While for the rest categories (medium, high, and expensive), it is more than 75%. \n",
    "\n",
    "**Age Dependence**\n",
    "- We created (0-5, 5-15, 15-25, 25-45, 45-60, 60-80) as 'Baby','Child','Young','Adult','Old' and 'Senior', respectively.\n",
    "The young babies (up to age 5) has the highest survival rate. \n",
    "\n",
    "\n",
    "**Family members**\n",
    "- Most of the passengers with large families didn't survive. It can be connected to the reason that they were traveling in 3rd class. Similarly, most of the alone traveller were in 3rd class.\n",
    "- The passengers with family size of 2,3,4 survived the most. "
   ]
  },
  {
   "cell_type": "code",
   "execution_count": 44,
   "metadata": {},
   "outputs": [
    {
     "data": {
      "text/plain": [
       "Index(['PassengerId', 'Survived', 'Pclass', 'Name', 'Sex', 'Age', 'SibSp',\n",
       "       'Parch', 'Ticket', 'Fare', 'Cabin', 'Embarked'],\n",
       "      dtype='object')"
      ]
     },
     "execution_count": 44,
     "metadata": {},
     "output_type": "execute_result"
    }
   ],
   "source": [
    "train.columns"
   ]
  },
  {
   "cell_type": "markdown",
   "metadata": {},
   "source": [
    "\n",
    "## Preprocessing Step\n",
    "From the above analysis, we have concluded that the following pre-processing steps should be included. First, we would make the pipeline for data processing and then, in later stage it will be combined with the estimator. \n",
    "\n",
    "**Step 1: Imputing the data** \\\n",
    "For numerical data, we have used median values while for categorical data, most frequent values are used.\n",
    "\n",
    "**Step 2: Extracting columns** \\\n",
    "(a) Passenger Id is dropped. \\\n",
    "(b) Fare: Categorized as the ranges of (0-20, 20-40, 40-75, 75-100, 100-600) and named them as (Very low, low, medium, high, expensive). \\\n",
    "(c) Title: Title is extracted from the given name. \\\n",
    "(d) Age: Categorized as the (0-5, 5-15, 15-25, 25-45, 45-60, 60-80) as 'Baby','Child','Young','Adult','Old' and 'Senior', respectively. \\\n",
    "(e) Member: total number of passengers traveling together as a family by summing parents,children, siblings, and spouses. \\\n",
    "(f) Deck: From the cabin numbers\n",
    "(g) Ticket frequency: from the ticket numbers\n",
    "\n",
    "**Step 3: Data Encoding** \\\n",
    "(a) Ordinal Encoding: for fare, ticket frquency and age cuts.\n",
    "(b) OneHotEncoder: Sex, Embarked, Family member, Deck, Pclass, and title.\n",
    "\n",
    "A customized imputer is made for the step 1 while for feature engineering and encoding, the other class is made."
   ]
  },
  {
   "cell_type": "code",
   "execution_count": 679,
   "metadata": {},
   "outputs": [],
   "source": [
    "class DataFrameImputer(TransformerMixin, BaseEstimator):\n",
    "\n",
    "    def __init__(self):\n",
    "        \"\"\"Impute missing values.\n",
    "\n",
    "        Columns of dtype object are imputed with the most frequent value \n",
    "        in column.\n",
    "\n",
    "        Columns of other types are imputed with mean of column.\n",
    "\n",
    "        \"\"\"\n",
    "    def fit(self, X, y=None):\n",
    "\n",
    "        self.fill = pd.Series([X[c].value_counts().index[0]\n",
    "            if X[c].dtype == np.dtype('O') else X[c].mean() for c in X],\n",
    "            index=X.columns)\n",
    "\n",
    "        return self\n",
    "\n",
    "    def transform(self, X, y=None):\n",
    "        X['Cabin'] = X['Cabin'].fillna('Missing')\n",
    "        return X.fillna(self.fill)\n",
    "\n",
    "# a1 = DataFrameImputer()\n",
    "# a2 = a1.fit_transform(X_train)\n",
    "# a1.transform(test).isnull().sum()\n",
    "# a2.isnull().sum()\n",
    "# a2['Cabin']"
   ]
  },
  {
   "cell_type": "code",
   "execution_count": 563,
   "metadata": {},
   "outputs": [],
   "source": [
    "# Y = train.copy()\n",
    "# Y['Cabin'] = Y['Cabin'].fillna('Missing')\n",
    "# Y['Deck'] = Y['Cabin'].str[0]\n",
    "# a1 = ['A','B','C','T']\n",
    "# a2 = ['D','E']\n",
    "# a3 = ['F','G']\n",
    "# a4 = ['M']\n",
    "# d_deck = ChainMap(dict.fromkeys(a1,'A1'),dict.fromkeys(a2,'A2'),dict.fromkeys(a3,'A3'), dict.fromkeys(a4,'A4'))\n",
    "# # deck_map = {'A':'A1','B':'A1','C':'A1','T':'A1', 'D':'A2','E':'A2', 'F':'A3','G':'A3'}\n",
    "# Y['Deck'] = Y['Deck'].map(d_deck.get)\n",
    "# # Y.drop('Cabin', axis = 1, inplace = True)\n",
    "# Y[['Deck']]"
   ]
  },
  {
   "cell_type": "code",
   "execution_count": 680,
   "metadata": {},
   "outputs": [],
   "source": [
    "class ColumnFeatureEncoder(TransformerMixin, BaseEstimator):\n",
    "\n",
    "    def __init__(self, Fare = False, Name = False, Age = False, Member = False, Encoding = True):\n",
    "        self.Fare = Fare\n",
    "        self.Name = Name\n",
    "        self.Age = Age\n",
    "        self.Member = Member\n",
    "        self.Encoding = Encoding\n",
    "    def fit(self, X, y=None):\n",
    "        \n",
    "        return self\n",
    "\n",
    "    def transform(self, X, y=None):\n",
    "        Y = X.copy()\n",
    "        Y.drop(['PassengerId'], axis = 1, inplace = True)\n",
    "        \n",
    "        if(self.Name):\n",
    "            Y['Title'] = Y['Name'].str.split(', ').str[1].str.split('.').str[0]\n",
    "            married = ['Mrs', 'Mr']\n",
    "            single = ['Miss', 'Master','Ms', 'Mlle', 'Mme'] #Mlle, Mme are french word for unmarried women\n",
    "            officer = ['Dr','Rev','Major','Col','the Countess', 'Capt', 'Lady', 'Sir', 'Don','Dona','Jonkheer' ] # the Countess is title of nobility in certain European countries,\n",
    "#             others = []\n",
    "            d = ChainMap(dict.fromkeys(married,'Married'),dict.fromkeys(single, 'Single'), dict.fromkeys(officer,'Officer'))\n",
    "            Y['Title'] = Y['Title'].map(d.get)\n",
    "#             Y.drop(['Name','Fare','Age','SibSp','Parch','Pclass'],axis = 1 , inplace = True)\n",
    "#             Y = OneHotEncoder().fit_transform(Y)\n",
    "            Y.drop('Name', axis = 1, inplace = True)\n",
    "            \n",
    "        if(self.Fare):\n",
    "            bins_fare = [0, 20, 40, 75, 100, 600]\n",
    "            label_fare = ['Very Low','Low','Medium','High','Expensive']\n",
    "            Y['Fare'] = pd.cut(Y['Fare'], bins = bins_fare, labels = label_fare,  include_lowest = True)\n",
    "            if(self.Encoding): Y['Fare'] = OrdinalEncoder().fit_transform(Y[['Fare']])\n",
    "        \n",
    "        if(self.Age):\n",
    "            bins_age = [0, 5, 15, 25, 45, 60, 80]\n",
    "            label_age = ['Baby','Child','Young','Adult','Old','Senior']\n",
    "            Y['Age'] = pd.cut(Y['Age'], bins = bins_age, labels = label_age, include_lowest = True)\n",
    "            if(self.Encoding): Y['Age'] = OrdinalEncoder().fit_transform(Y[['Age']])\n",
    "            \n",
    "        if(self.Member):\n",
    "            Y['Member'] = Y['SibSp'] + Y['Parch'] + 1\n",
    "            Y.drop(['SibSp', 'Parch'], axis = 1, inplace = True)\n",
    "            alone = [1]\n",
    "            small = [2,3,4]\n",
    "            medium = [5,6]\n",
    "            large = [7,8,9,10,11,12]\n",
    "            d_member = ChainMap(dict.fromkeys(alone,'Alone'),dict.fromkeys(small, 'Small'), dict.fromkeys(medium,'Medium'), \n",
    "                        dict.fromkeys(large, 'Large'))\n",
    "            Y['Member'] = Y['Member'].map(d_member.get)\n",
    "            \n",
    "            \n",
    "            \n",
    "            Y['Deck'] = Y['Cabin'].str[0]\n",
    "            a1 = ['A','B','C','T']\n",
    "            a2 = ['D','E']\n",
    "            a3 = ['F','G']\n",
    "            a4 = ['M']\n",
    "            d_deck = ChainMap(dict.fromkeys(a1,'A1'),dict.fromkeys(a2,'A2'),dict.fromkeys(a3,'A3'), dict.fromkeys(a4,'A4'))\n",
    "            # deck_map = {'A':'A1','B':'A1','C':'A1','T':'A1', 'D':'A2','E':'A2', 'F':'A3','G':'A3'}\n",
    "            Y['Deck'] = Y['Deck'].map(d_deck.get)\n",
    "            Y.drop('Cabin', axis = 1, inplace = True)\n",
    "            \n",
    "            Y['Tf'] = Y['Ticket'].apply(lambda x: sum(x == Y['Ticket']))\n",
    "            if(self.Encoding): Y['Tf'] = OrdinalEncoder().fit_transform(Y[['Tf']])\n",
    "            Y.drop('Ticket', axis = 1, inplace = True)\n",
    "        \n",
    "        if(self.Encoding):\n",
    "#             Y['Sex'] = OneHotEncoder().fit_transform(Y['Sex'])\n",
    "#             Y['Embarked'] = LabelEncoder().fit_transform(Y['Embarked'])\n",
    "#             Y['Title'] = LabelEncoder().fit_transform(Y['Title'])\n",
    "            encoder = OneHotEncoder()\n",
    "            data = encoder.fit_transform(Y[['Sex','Embarked','Title','Pclass','Member','Deck' ]])\n",
    "            col = encoder.get_feature_names(['Sex','Embarked','Title','Pclass','Member','Deck'])\n",
    "            Y[col] = pd.DataFrame(data.todense())\n",
    "            Y.drop(['Sex','Embarked','Title','Pclass','Member','Deck'], axis = 1, inplace = True)\n",
    "            \n",
    "        return Y\n",
    "\n",
    "a3 = ColumnFeatureEncoder(Fare = True, Name = True, Age = False, Member = True, Encoding = False)\n",
    "# a3.fit_transform(X_train)\n"
   ]
  },
  {
   "cell_type": "markdown",
   "metadata": {},
   "source": [
    "**Pipeline Description**\n",
    "- Customized imputer (DataFrameImputer) imputes object data type with the most frequent value while for the numerical data, mean value is imputed.\n",
    "- The second customized feature and encoder was developed."
   ]
  },
  {
   "cell_type": "code",
   "execution_count": 681,
   "metadata": {},
   "outputs": [
    {
     "data": {
      "text/plain": [
       "((418, 22), (891, 22))"
      ]
     },
     "execution_count": 681,
     "metadata": {},
     "output_type": "execute_result"
    }
   ],
   "source": [
    "Pipe_preprocess = Pipeline([('impute',DataFrameImputer()),\n",
    "                     ('adding',ColumnFeatureEncoder(Fare = True, Name = True, Age = True, Member = True, Encoding = True)),])\n",
    "# Pipe_preprocess.fit_transform(X_train).isnull().sum()\n",
    "# Pipe_preprocess.transform(test).isnull().sum()\n",
    "# Pipe_preprocess.transform(test).shape, Pipe_preprocess.fit_transform(X_train).shape"
   ]
  },
  {
   "cell_type": "markdown",
   "metadata": {},
   "source": [
    "# Training the model\n",
    "\n",
    "We have found that the dataset has misbalanced classes with survived as a positive and minority class. We are interested in predicting both the positive and negative classes accurately. Therefore, the best evaluation metric would be **ROC-AUC** area under the curve of ROC. Keep in mind that, it is evaluated based on the scores calculated by estimators but not all the estimators can produce score. \n",
    "\n",
    "Step 1: Cross-validation \\\n",
    "(a) We are calculating averages of training and test data set roc-auc obtained from the cross-validation. \\\n",
    "(b) We also evaluated roc-auc of dummy classifier to cross check whether the chosen model is close to the dummy classifier. \n",
    "\n",
    "Step 2: Fine tune the model\n",
    "After selecting the most appropriate classifier, we would be doing fine tuning of hyperparameters of  the model. There are three methods of doing so: (1) GridSearchCV, (2) RandomizedSearchCV, and (3) Ensemble method.\n",
    "We have opted for GridSearchCV \n",
    "\n",
    "Step 3: Analyze the best model \\\n",
    "If the best model seems appropriate then we can evaluate our system on the test set. Else, we may include adding extra features or, on the contrary, getting rid of uninformative ones, cleaning up outliers, etc.).\n"
   ]
  },
  {
   "cell_type": "code",
   "execution_count": 682,
   "metadata": {},
   "outputs": [],
   "source": [
    "X_train = train.copy()\n",
    "X_train.drop('Survived', axis = 1, inplace = True)\n",
    "# train_pre stands for preprocessing of data\n",
    "y = train[['Survived']]\n",
    "X = Pipe_preprocess.fit_transform(X_train)\n",
    "\n",
    "# train_2 = pd.DataFrame(Transformer.transform(train_pre))\n",
    "# train_2.head()\n",
    "# X.head()\n",
    "# X.shape\n",
    "# X.head()"
   ]
  },
  {
   "cell_type": "markdown",
   "metadata": {},
   "source": [
    "### Step 1: Select the model\n",
    "**Model 1: Logistic Regression**"
   ]
  },
  {
   "cell_type": "code",
   "execution_count": 683,
   "metadata": {},
   "outputs": [
    {
     "data": {
      "text/plain": [
       "(0.8701041793273493, 0.8618420337832102)"
      ]
     },
     "execution_count": 683,
     "metadata": {},
     "output_type": "execute_result"
    }
   ],
   "source": [
    "from sklearn.model_selection import cross_val_score, cross_validate\n",
    "# pipe_lr = Pipeline([('preprocess',Pipe_preprocess),('classifier',LogisticRegression())])\n",
    "# pipe_rf.fit(X_train, y.values.ravel())\n",
    "# pipe_rf.score(X_train,y.values.ravel())\n",
    "result_lr = cross_validate(LogisticRegression(), X, y.values.ravel(), scoring = 'roc_auc', cv = 10, return_train_score= True)\n",
    "result_lr['train_score'].mean(), result_lr['test_score'].mean()"
   ]
  },
  {
   "cell_type": "code",
   "execution_count": 633,
   "metadata": {},
   "outputs": [
    {
     "data": {
      "text/plain": [
       "{'fit_time': array([0.03789902, 0.04089046, 0.03889561, 0.03490734, 0.01994538,\n",
       "        0.03191423, 0.02792501, 0.02293801, 0.02593088, 0.02393508]),\n",
       " 'score_time': array([0.00398946, 0.00299191, 0.00498796, 0.0029943 , 0.00299239,\n",
       "        0.00199556, 0.00498772, 0.00299215, 0.00299239, 0.00299239]),\n",
       " 'test_score': array([0.87298701, 0.85641711, 0.73796791, 0.89652406, 0.87540107,\n",
       "        0.86069519, 0.86951872, 0.86898396, 0.90294118, 0.87698413]),\n",
       " 'train_score': array([0.86767596, 0.87161194, 0.8834225 , 0.86832904, 0.86943977,\n",
       "        0.8694562 , 0.869029  , 0.86819102, 0.86601228, 0.86785444])}"
      ]
     },
     "execution_count": 633,
     "metadata": {},
     "output_type": "execute_result"
    }
   ],
   "source": [
    "result_lr"
   ]
  },
  {
   "cell_type": "markdown",
   "metadata": {},
   "source": [
    "**Model 2: Decision Tree Classifier**"
   ]
  },
  {
   "cell_type": "code",
   "execution_count": 684,
   "metadata": {},
   "outputs": [
    {
     "data": {
      "text/plain": [
       "(0.9659183011066691, 0.8286412585236114)"
      ]
     },
     "execution_count": 684,
     "metadata": {},
     "output_type": "execute_result"
    }
   ],
   "source": [
    "from sklearn.tree import DecisionTreeClassifier\n",
    "result_dt = cross_validate(DecisionTreeClassifier(), X, y.values.ravel(), cv = 10, scoring = 'roc_auc', return_train_score= True)\n",
    "result_dt['train_score'].mean(), result_dt['test_score'].mean()"
   ]
  },
  {
   "cell_type": "markdown",
   "metadata": {},
   "source": [
    "**Model 3: Random Forest Classifier**"
   ]
  },
  {
   "cell_type": "code",
   "execution_count": 635,
   "metadata": {},
   "outputs": [
    {
     "data": {
      "text/plain": [
       "(0.9591934179931352, 0.8763870356223297)"
      ]
     },
     "execution_count": 635,
     "metadata": {},
     "output_type": "execute_result"
    }
   ],
   "source": [
    "from sklearn.ensemble import RandomForestClassifier\n",
    "from sklearn.model_selection import RepeatedStratifiedKFold\n",
    "pipe_rf = Pipeline([('preprocess',Pipe_preprocess),('classifier', RandomForestClassifier())])\n",
    "cv = RepeatedStratifiedKFold(n_splits=10, n_repeats=3, random_state=1)\n",
    "result_rf = cross_validate(RandomForestClassifier(n_estimators = 100, class_weight='balanced_subsample'), X, y.values.ravel(),scoring = 'roc_auc', cv = 10, return_train_score= True)\n",
    "result_rf['train_score'].mean(), result_rf['test_score'].mean()"
   ]
  },
  {
   "cell_type": "markdown",
   "metadata": {},
   "source": [
    "**Model 4: Support vector Machine**"
   ]
  },
  {
   "cell_type": "code",
   "execution_count": 685,
   "metadata": {},
   "outputs": [
    {
     "data": {
      "text/plain": [
       "(0.8897361093913039, 0.8740551452904393)"
      ]
     },
     "execution_count": 685,
     "metadata": {},
     "output_type": "execute_result"
    }
   ],
   "source": [
    "from sklearn.svm import SVC\n",
    "# pipe_svc = Pipeline([('preprocess',Pipe_preprocess),('classifier', SVC(kernel = 'rbf'))])\n",
    "result_svc = cross_validate(SVC(kernel = 'rbf'), X, y.values.ravel(), scoring = 'roc_auc', cv = 10, return_train_score= True)\n",
    "result_svc['train_score'].mean(), result_svc['test_score'].mean()"
   ]
  },
  {
   "cell_type": "code",
   "execution_count": 686,
   "metadata": {},
   "outputs": [
    {
     "data": {
      "text/plain": [
       "{'fit_time': array([0.03329706, 0.04390025, 0.05073118, 0.05562544, 0.04519391,\n",
       "        0.04448128, 0.04380965, 0.04814243, 0.06377864, 0.05110288]),\n",
       " 'score_time': array([0.00697899, 0.01353288, 0.01313257, 0.01504135, 0.0095849 ,\n",
       "        0.00511336, 0.00799847, 0.01358581, 0.01150608, 0.0127635 ]),\n",
       " 'test_score': array([0.89792208, 0.88208556, 0.76737968, 0.88636364, 0.88930481,\n",
       "        0.86871658, 0.87112299, 0.86791444, 0.92058824, 0.88915344]),\n",
       " 'train_score': array([0.88495826, 0.89234121, 0.90133879, 0.89362611, 0.88538435,\n",
       "        0.88716875, 0.89102674, 0.88662653, 0.88657067, 0.88831968])}"
      ]
     },
     "execution_count": 686,
     "metadata": {},
     "output_type": "execute_result"
    }
   ],
   "source": [
    "result_svc"
   ]
  },
  {
   "cell_type": "markdown",
   "metadata": {},
   "source": [
    "**Dummy Classifier**"
   ]
  },
  {
   "cell_type": "code",
   "execution_count": 638,
   "metadata": {},
   "outputs": [
    {
     "name": "stderr",
     "output_type": "stream",
     "text": [
      "C:\\Users\\Swati Gupta\\Anaconda3\\lib\\site-packages\\sklearn\\dummy.py:132: FutureWarning: The default value of strategy will change from stratified to prior in 0.24.\n",
      "  \"stratified to prior in 0.24.\", FutureWarning)\n",
      "C:\\Users\\Swati Gupta\\Anaconda3\\lib\\site-packages\\sklearn\\dummy.py:132: FutureWarning: The default value of strategy will change from stratified to prior in 0.24.\n",
      "  \"stratified to prior in 0.24.\", FutureWarning)\n"
     ]
    },
    {
     "data": {
      "text/plain": [
       "(0.5328672821181465, 0.5104457172570888)"
      ]
     },
     "execution_count": 638,
     "metadata": {},
     "output_type": "execute_result"
    }
   ],
   "source": [
    "from sklearn.dummy import DummyClassifier\n",
    "result_dummy = cross_validate(DummyClassifier(), X, y.values.ravel(), scoring = 'roc_auc', cv = 2, return_train_score= True)\n",
    "result_dummy['train_score'].mean(), result_dummy['test_score'].mean()"
   ]
  },
  {
   "cell_type": "markdown",
   "metadata": {},
   "source": [
    "**ROC Curve of Logistic and Random Forest Classifier**"
   ]
  },
  {
   "cell_type": "code",
   "execution_count": 687,
   "metadata": {},
   "outputs": [
    {
     "name": "stdout",
     "output_type": "stream",
     "text": [
      "No Skill: ROC AUC=0.500\n",
      "Logistic: ROC AUC=0.852\n",
      "Random Forest: ROC AUC=0.878\n"
     ]
    },
    {
     "data": {
      "image/png": "[encoded data removed]",
      "text/plain": [
       "<Figure size 432x288 with 1 Axes>"
      ]
     },
     "metadata": {},
     "output_type": "display_data"
    }
   ],
   "source": [
    "from sklearn.metrics import roc_auc_score, roc_curve\n",
    "trainX, testX, trainy, testy = train_test_split(X, y, test_size=0.2, random_state=2)\n",
    "# generate a no skill prediction (majority class)\n",
    "ns_probs = [0 for _ in range(len(testy))]\n",
    "model = LogisticRegression()\n",
    "model_rf = RandomForestClassifier(n_estimators = 100)\n",
    "# model = SVC(kernel = 'rbf', probability= True)\n",
    "model_name = 'RF'\n",
    "model.fit(trainX, trainy.values.ravel())\n",
    "model_rf.fit(trainX, trainy.values.ravel())\n",
    "# predict probabilities\n",
    "lr_probs = model.predict_proba(testX)\n",
    "rf_probs = model_rf.predict_proba(testX)\n",
    "# keep probabilities for the positive outcome only\n",
    "lr_probs = lr_probs[:, 1]\n",
    "rf_probs = rf_probs[:, 1]\n",
    "# calculate scores\n",
    "ns_auc = roc_auc_score(testy, ns_probs)\n",
    "lr_auc = roc_auc_score(testy, lr_probs)\n",
    "rf_auc = roc_auc_score(testy, rf_probs)\n",
    "# summarize scores\n",
    "print('No Skill: ROC AUC=%.3f' % (ns_auc))\n",
    "print('Logistic: ROC AUC=%.3f' % (lr_auc))\n",
    "print('Random Forest: ROC AUC=%.3f' % (rf_auc))\n",
    "\n",
    "# determining fpr and tpr from roc_curve\n",
    "ns_fpr, ns_tpr, _ = roc_curve(testy, ns_probs)\n",
    "lr_fpr, lr_tpr, _ = roc_curve(testy, lr_probs)\n",
    "rf_fpr, rf_tpr, _ = roc_curve(testy, rf_probs)\n",
    "\n",
    "plt.plot(ns_fpr, ns_tpr, linestyle='--', label='No Skill')\n",
    "plt.plot(lr_fpr, lr_tpr, marker='.', label= 'Logistic')\n",
    "plt.plot(rf_fpr, rf_tpr, marker='.', label= 'Random Forest')\n",
    "\n",
    "plt.xlabel('False Positive Rate')\n",
    "plt.ylabel('True Positive Rate')\n",
    "\n",
    "plt.legend()\n",
    "# plt.text(0.8,0.1, (model_name,\"%.2f\" % round(lr_auc, 2)) )\n",
    "plt.show()"
   ]
  },
  {
   "cell_type": "code",
   "execution_count": 688,
   "metadata": {},
   "outputs": [
    {
     "name": "stdout",
     "output_type": "stream",
     "text": [
      "The confusion matrix of logistic regression is:\n"
     ]
    },
    {
     "data": {
      "text/plain": [
       "array([[90, 10],\n",
       "       [27, 52]], dtype=int64)"
      ]
     },
     "execution_count": 688,
     "metadata": {},
     "output_type": "execute_result"
    }
   ],
   "source": [
    "from sklearn.metrics import confusion_matrix\n",
    "y_pred = model.predict(testX)\n",
    "print('The confusion matrix of logistic regression is:')\n",
    "confusion_matrix(testy, y_pred)\n"
   ]
  },
  {
   "cell_type": "code",
   "execution_count": 689,
   "metadata": {},
   "outputs": [
    {
     "name": "stdout",
     "output_type": "stream",
     "text": [
      "The confusion matrix of Random Forest Classifer is:\n"
     ]
    },
    {
     "data": {
      "text/plain": [
       "array([[91,  9],\n",
       "       [24, 55]], dtype=int64)"
      ]
     },
     "execution_count": 689,
     "metadata": {},
     "output_type": "execute_result"
    }
   ],
   "source": [
    "y_pred_rf = model_rf.predict(testX)\n",
    "print('The confusion matrix of Random Forest Classifer is:')\n",
    "confusion_matrix(testy, y_pred_rf)"
   ]
  },
  {
   "cell_type": "markdown",
   "metadata": {},
   "source": [
    "**Conclusion of the classifiers**\n",
    "- Support vector machine leads to quite similar values of training and valdidation set accuracy. \n",
    "- Random Forest and Decision Tree are overfitting the data as there is large difference between roc_auc of training and test datasets.\n",
    "- The most promising classifier is the random forest classifier and therefore, we would fine this model further."
   ]
  },
  {
   "cell_type": "markdown",
   "metadata": {},
   "source": [
    "### Step 2: Fine Tune the model\n",
    "**Method 1: Grid Search**"
   ]
  },
  {
   "cell_type": "code",
   "execution_count": 666,
   "metadata": {},
   "outputs": [],
   "source": [
    "param_rf = {'n_estimators': [10,100,300], 'max_depth':[4, 6, 8, 10, 12],'min_samples_split':[2, 3, 4], \n",
    "            'max_features': [4,6,8,10,12], 'min_samples_leaf':[2,5,10,20]}\n",
    "grid_rf = GridSearchCV(RandomForestClassifier(), param_grid = param_rf, return_train_score = True, scoring = 'roc_auc', refit = True)\n",
    "grid_rf_result = grid_rf.fit(X, y.values.ravel())"
   ]
  },
  {
   "cell_type": "code",
   "execution_count": 641,
   "metadata": {},
   "outputs": [],
   "source": [
    "# grid_rf_result.cv_results_"
   ]
  },
  {
   "cell_type": "code",
   "execution_count": 667,
   "metadata": {},
   "outputs": [
    {
     "data": {
      "text/plain": [
       "{'max_depth': 8,\n",
       " 'max_features': 12,\n",
       " 'min_samples_leaf': 2,\n",
       " 'min_samples_split': 2,\n",
       " 'n_estimators': 100}"
      ]
     },
     "execution_count": 667,
     "metadata": {},
     "output_type": "execute_result"
    }
   ],
   "source": [
    "grid_rf.best_params_"
   ]
  },
  {
   "cell_type": "code",
   "execution_count": 668,
   "metadata": {},
   "outputs": [
    {
     "data": {
      "text/plain": [
       "RandomForestClassifier(max_depth=8, max_features=12, min_samples_leaf=2)"
      ]
     },
     "execution_count": 668,
     "metadata": {},
     "output_type": "execute_result"
    }
   ],
   "source": [
    "best_rf = grid_rf.best_estimator_\n",
    "best_rf"
   ]
  },
  {
   "cell_type": "code",
   "execution_count": 669,
   "metadata": {},
   "outputs": [
    {
     "data": {
      "text/plain": [
       "(0.8920172483179005, make_scorer(roc_auc_score, needs_threshold=True))"
      ]
     },
     "execution_count": 669,
     "metadata": {},
     "output_type": "execute_result"
    }
   ],
   "source": [
    "grid_rf.best_score_, grid_rf.scorer_"
   ]
  },
  {
   "cell_type": "markdown",
   "metadata": {},
   "source": [
    "**Method 2: Randomized Search CV**"
   ]
  },
  {
   "cell_type": "code",
   "execution_count": 625,
   "metadata": {},
   "outputs": [],
   "source": [
    "from sklearn.model_selection import RandomizedSearchCV\n",
    "# param_rf = {'n_estimators': [10,100,100], 'max_depth':[4, 6, 8, 10, 12, 14, 16],'min_samples_split':[5,7,9,11, 13, 15],}\n",
    "random_rf = {'n_estimators': [10,100,100,1000], 'max_depth':[4, 6, 8, 10, 12, 14, 16], 'min_samples_split':[5,7,9,11, 13, 15],\n",
    "            'max_features': [2,4,6,8,10,12], 'class_weight' : ['balanced', 'balanced_subsample'],'min_samples_leaf':[2,5,10,20]}\n",
    "random_rf = RandomizedSearchCV(RandomForestClassifier(), param_distributions = random_rf, return_train_score = True, scoring = 'roc_auc')\n",
    "random_rf_result = random_rf.fit(X, y.values.ravel())"
   ]
  },
  {
   "cell_type": "code",
   "execution_count": 626,
   "metadata": {},
   "outputs": [
    {
     "name": "stdout",
     "output_type": "stream",
     "text": [
      "The best parameters:  {'n_estimators': 100, 'min_samples_split': 11, 'min_samples_leaf': 2, 'max_features': 10, 'max_depth': 10, 'class_weight': 'balanced'}\n",
      "The best estimators:  RandomForestClassifier(class_weight='balanced', max_depth=10, max_features=10,\n",
      "                       min_samples_leaf=2, min_samples_split=11)\n",
      "The best accuracy: 0.8880595100207833 make_scorer(roc_auc_score, needs_threshold=True)\n"
     ]
    }
   ],
   "source": [
    "print('The best parameters: ',random_rf.best_params_)\n",
    "print('The best estimators: ', random_rf.best_estimator_)\n",
    "print('The best accuracy:', random_rf.best_score_, random_rf.scorer_)"
   ]
  },
  {
   "cell_type": "markdown",
   "metadata": {},
   "source": [
    "**Analysis of the best model obtained from Grid Search CV**"
   ]
  },
  {
   "cell_type": "code",
   "execution_count": 690,
   "metadata": {},
   "outputs": [
    {
     "data": {
      "text/plain": [
       "<AxesSubplot:xlabel='Value'>"
      ]
     },
     "execution_count": 690,
     "metadata": {},
     "output_type": "execute_result"
    },
    {
     "data": {
      "image/png": "[encoded data removed]",
      "text/plain": [
       "<Figure size 432x288 with 1 Axes>"
      ]
     },
     "metadata": {},
     "output_type": "display_data"
    }
   ],
   "source": [
    "feature_importance = (pd.DataFrame(best_rf.feature_importances_, index = X.columns, columns = ['Value'])\n",
    "                      .sort_values(by = 'Value', ascending = False))\n",
    "sns.barplot(x= 'Value', y = feature_importance.index, data = feature_importance)"
   ]
  },
  {
   "cell_type": "markdown",
   "metadata": {},
   "source": [
    "By analyzing the feature importance, we can drop out the less relevant features and try modeling again. "
   ]
  },
  {
   "cell_type": "markdown",
   "metadata": {},
   "source": [
    "**Predicting the test labels**"
   ]
  },
  {
   "cell_type": "code",
   "execution_count": 691,
   "metadata": {},
   "outputs": [
    {
     "data": {
      "text/html": [
       "<div>\n",
       "<style scoped>\n",
       "    .dataframe tbody tr th:only-of-type {\n",
       "        vertical-align: middle;\n",
       "    }\n",
       "\n",
       "    .dataframe tbody tr th {\n",
       "        vertical-align: top;\n",
       "    }\n",
       "\n",
       "    .dataframe thead th {\n",
       "        text-align: right;\n",
       "    }\n",
       "</style>\n",
       "<table border=\"1\" class=\"dataframe\">\n",
       "  <thead>\n",
       "    <tr style=\"text-align: right;\">\n",
       "      <th></th>\n",
       "      <th>Label</th>\n",
       "      <th>Prob0</th>\n",
       "      <th>Prob1</th>\n",
       "    </tr>\n",
       "  </thead>\n",
       "  <tbody>\n",
       "    <tr>\n",
       "      <th>0</th>\n",
       "      <td>0.0</td>\n",
       "      <td>0.910579</td>\n",
       "      <td>0.089421</td>\n",
       "    </tr>\n",
       "    <tr>\n",
       "      <th>1</th>\n",
       "      <td>1.0</td>\n",
       "      <td>0.463013</td>\n",
       "      <td>0.536987</td>\n",
       "    </tr>\n",
       "    <tr>\n",
       "      <th>2</th>\n",
       "      <td>0.0</td>\n",
       "      <td>0.888832</td>\n",
       "      <td>0.111168</td>\n",
       "    </tr>\n",
       "    <tr>\n",
       "      <th>3</th>\n",
       "      <td>0.0</td>\n",
       "      <td>0.892755</td>\n",
       "      <td>0.107245</td>\n",
       "    </tr>\n",
       "    <tr>\n",
       "      <th>4</th>\n",
       "      <td>1.0</td>\n",
       "      <td>0.397131</td>\n",
       "      <td>0.602869</td>\n",
       "    </tr>\n",
       "    <tr>\n",
       "      <th>...</th>\n",
       "      <td>...</td>\n",
       "      <td>...</td>\n",
       "      <td>...</td>\n",
       "    </tr>\n",
       "    <tr>\n",
       "      <th>413</th>\n",
       "      <td>0.0</td>\n",
       "      <td>0.892755</td>\n",
       "      <td>0.107245</td>\n",
       "    </tr>\n",
       "    <tr>\n",
       "      <th>414</th>\n",
       "      <td>1.0</td>\n",
       "      <td>0.067857</td>\n",
       "      <td>0.932143</td>\n",
       "    </tr>\n",
       "    <tr>\n",
       "      <th>415</th>\n",
       "      <td>0.0</td>\n",
       "      <td>0.892755</td>\n",
       "      <td>0.107245</td>\n",
       "    </tr>\n",
       "    <tr>\n",
       "      <th>416</th>\n",
       "      <td>0.0</td>\n",
       "      <td>0.892755</td>\n",
       "      <td>0.107245</td>\n",
       "    </tr>\n",
       "    <tr>\n",
       "      <th>417</th>\n",
       "      <td>1.0</td>\n",
       "      <td>0.067552</td>\n",
       "      <td>0.932448</td>\n",
       "    </tr>\n",
       "  </tbody>\n",
       "</table>\n",
       "<p>418 rows × 3 columns</p>\n",
       "</div>"
      ],
      "text/plain": [
       "     Label     Prob0     Prob1\n",
       "0      0.0  0.910579  0.089421\n",
       "1      1.0  0.463013  0.536987\n",
       "2      0.0  0.888832  0.111168\n",
       "3      0.0  0.892755  0.107245\n",
       "4      1.0  0.397131  0.602869\n",
       "..     ...       ...       ...\n",
       "413    0.0  0.892755  0.107245\n",
       "414    1.0  0.067857  0.932143\n",
       "415    0.0  0.892755  0.107245\n",
       "416    0.0  0.892755  0.107245\n",
       "417    1.0  0.067552  0.932448\n",
       "\n",
       "[418 rows x 3 columns]"
      ]
     },
     "execution_count": 691,
     "metadata": {},
     "output_type": "execute_result"
    }
   ],
   "source": [
    "test_X = Pipe_preprocess.transform(test)\n",
    "y_test_rf = best_rf.predict(test_X).reshape(-1,1)\n",
    "y_pred_rf = best_rf.predict_proba(test_X)\n",
    "pd.DataFrame(np.hstack((y_test_rf, y_pred_rf)), columns =['Label','Prob0','Prob1'])\n",
    "# y_test.shape, y_pred.shape\n"
   ]
  },
  {
   "cell_type": "markdown",
   "metadata": {},
   "source": [
    "**Predicting the test set**"
   ]
  },
  {
   "cell_type": "code",
   "execution_count": 673,
   "metadata": {},
   "outputs": [],
   "source": [
    "survived_rf = pd.DataFrame(test['PassengerId'], columns = ['PassengerId'])\n",
    "survived_rf['Survived'] = y_test_rf\n",
    "survived_rf\n",
    "survived_rf.to_csv('Survived_rf_2.csv', index = False)"
   ]
  },
  {
   "cell_type": "code",
   "execution_count": 12,
   "metadata": {},
   "outputs": [],
   "source": [
    "main = pd.read_csv('train.csv')\n",
    "main.head()\n",
    "main_X = main.copy()\n",
    "main_y = main['Survived']\n",
    "main_X.drop('Survived', inplace = True, axis = 1)\n",
    "\n"
   ]
  },
  {
   "cell_type": "code",
   "execution_count": 4,
   "metadata": {},
   "outputs": [],
   "source": [
    "class DataFrameImputer2(TransformerMixin, BaseEstimator):\n",
    "\n",
    "    def __init__(self):\n",
    "        \"\"\"Impute missing values.\n",
    "\n",
    "        Columns of dtype object are imputed with the most frequent value \n",
    "        in column.\n",
    "\n",
    "        Columns of other types are imputed with mean of column.\n",
    "\n",
    "        \"\"\"\n",
    "    def fit(self, X, y=None):\n",
    "\n",
    "        self.fill = pd.Series([X[c].value_counts().index[0]\n",
    "            if X[c].dtype == np.dtype('O') else X[c].median() for c in X],\n",
    "            index=X.columns)\n",
    "\n",
    "        return self\n",
    "\n",
    "    def transform(self, X, y=None):\n",
    "        X['Cabin'] = X['Cabin'].fillna('Missing')\n",
    "        return X.fillna(self.fill)"
   ]
  },
  {
   "cell_type": "code",
   "execution_count": 19,
   "metadata": {},
   "outputs": [
    {
     "data": {
      "text/plain": [
       "PassengerId      int64\n",
       "Pclass           int64\n",
       "Name            object\n",
       "Sex             object\n",
       "Age            float64\n",
       "SibSp            int64\n",
       "Parch            int64\n",
       "Ticket          object\n",
       "Fare           float64\n",
       "Cabin           object\n",
       "Embarked        object\n",
       "dtype: object"
      ]
     },
     "execution_count": 19,
     "metadata": {},
     "output_type": "execute_result"
    }
   ],
   "source": [
    "main_X = DataFrameImputer2().fit_transform(main_X, main_y)\n",
    "np.sum(main_X.isnull().sum())\n",
    "main_X.dtypes"
   ]
  },
  {
   "cell_type": "code",
   "execution_count": 18,
   "metadata": {},
   "outputs": [],
   "source": [
    "from sklearn.feature_selection import SelectKBest\n",
    "from sklearn.feature_selection import chi2"
   ]
  },
  {
   "cell_type": "code",
   "execution_count": null,
   "metadata": {},
   "outputs": [],
   "source": [
    "class ColumnFeatureEncoder(TransformerMixin, BaseEstimator):\n",
    "\n",
    "    def __init__(self, Fare = False, Name = False, Age = False, Member = False, Encoding = True):\n",
    "        self.Fare = Fare\n",
    "        self.Name = Name\n",
    "        self.Age = Age\n",
    "        self.Member = Member\n",
    "        self.Encoding = Encoding\n",
    "    def fit(self, X, y=None):\n",
    "        \n",
    "        return self\n",
    "\n",
    "    def transform(self, X, y=None):\n",
    "        Y = X.copy()\n",
    "        Y.drop(['PassengerId'], axis = 1, inplace = True)\n",
    "        \n",
    "        if(self.Name):\n",
    "            Y['Title'] = Y['Name'].str.split(', ').str[1].str.split('.').str[0]\n",
    "            married = ['Mrs', 'Mr']\n",
    "            single = ['Miss', 'Master','Ms', 'Mlle', 'Mme'] #Mlle, Mme are french word for unmarried women\n",
    "            officer = ['Dr','Rev','Major','Col','the Countess', 'Capt', 'Lady', 'Sir', 'Don','Dona','Jonkheer' ] # the Countess is title of nobility in certain European countries,\n",
    "#             others = []\n",
    "            d = ChainMap(dict.fromkeys(married,'Married'),dict.fromkeys(single, 'Single'), dict.fromkeys(officer,'Officer'))\n",
    "            Y['Title'] = Y['Title'].map(d.get)\n",
    "#             Y.drop(['Name','Fare','Age','SibSp','Parch','Pclass'],axis = 1 , inplace = True)\n",
    "#             Y = OneHotEncoder().fit_transform(Y)\n",
    "            Y.drop('Name', axis = 1, inplace = True)\n",
    "            \n",
    "        if(self.Fare):\n",
    "            bins_fare = [0, 20, 40, 75, 100, 600]\n",
    "            label_fare = ['Very Low','Low','Medium','High','Expensive']\n",
    "            Y['Fare'] = pd.cut(Y['Fare'], bins = bins_fare, labels = label_fare,  include_lowest = True)\n",
    "            if(self.Encoding): Y['Fare'] = OrdinalEncoder().fit_transform(Y[['Fare']])\n",
    "        \n",
    "        if(self.Age):\n",
    "            bins_age = [0, 5, 15, 25, 45, 60, 80]\n",
    "            label_age = ['Baby','Child','Young','Adult','Old','Senior']\n",
    "            Y['Age'] = pd.cut(Y['Age'], bins = bins_age, labels = label_age, include_lowest = True)\n",
    "            if(self.Encoding): Y['Age'] = OrdinalEncoder().fit_transform(Y[['Age']])\n",
    "            \n",
    "        if(self.Member):\n",
    "            Y['Member'] = Y['SibSp'] + Y['Parch'] + 1\n",
    "            Y.drop(['SibSp', 'Parch'], axis = 1, inplace = True)\n",
    "            alone = [1]\n",
    "            small = [2,3,4]\n",
    "            medium = [5,6]\n",
    "            large = [7,8,9,10,11,12]\n",
    "            d_member = ChainMap(dict.fromkeys(alone,'Alone'),dict.fromkeys(small, 'Small'), dict.fromkeys(medium,'Medium'), \n",
    "                        dict.fromkeys(large, 'Large'))\n",
    "            Y['Member'] = Y['Member'].map(d_member.get)\n",
    "            \n",
    "            \n",
    "            \n",
    "            Y['Deck'] = Y['Cabin'].str[0]\n",
    "            a1 = ['A','B','C','T']\n",
    "            a2 = ['D','E']\n",
    "            a3 = ['F','G']\n",
    "            a4 = ['M']\n",
    "            d_deck = ChainMap(dict.fromkeys(a1,'A1'),dict.fromkeys(a2,'A2'),dict.fromkeys(a3,'A3'), dict.fromkeys(a4,'A4'))\n",
    "            # deck_map = {'A':'A1','B':'A1','C':'A1','T':'A1', 'D':'A2','E':'A2', 'F':'A3','G':'A3'}\n",
    "            Y['Deck'] = Y['Deck'].map(d_deck.get)\n",
    "            Y.drop('Cabin', axis = 1, inplace = True)\n",
    "            \n",
    "            Y['Tf'] = Y['Ticket'].apply(lambda x: sum(x == Y['Ticket']))\n",
    "            if(self.Encoding): Y['Tf'] = OrdinalEncoder().fit_transform(Y[['Tf']])\n",
    "            Y.drop('Ticket', axis = 1, inplace = True)\n",
    "        \n",
    "        if(self.Encoding):\n",
    "#             Y['Sex'] = OneHotEncoder().fit_transform(Y['Sex'])\n",
    "#             Y['Embarked'] = LabelEncoder().fit_transform(Y['Embarked'])\n",
    "#             Y['Title'] = LabelEncoder().fit_transform(Y['Title'])\n",
    "            encoder = OneHotEncoder()\n",
    "            data = encoder.fit_transform(Y[['Sex','Embarked','Title','Pclass','Member','Deck' ]])\n",
    "            col = encoder.get_feature_names(['Sex','Embarked','Title','Pclass','Member','Deck'])\n",
    "            Y[col] = pd.DataFrame(data.todense())\n",
    "            Y.drop(['Sex','Embarked','Title','Pclass','Member','Deck'], axis = 1, inplace = True)\n",
    "            \n",
    "        return Y\n",
    "\n",
    "a3 = ColumnFeatureEncoder(Fare = True, Name = True, Age = False, Member = True, Encoding = False)\n",
    "# a3.fit_transform(X_train)\n"
   ]
  }
 ],
 "metadata": {
  "kernelspec": {
   "display_name": "Python 3",
   "language": "python",
   "name": "python3"
  },
  "language_info": {
   "codemirror_mode": {
    "name": "ipython",
    "version": 3
   },
   "file_extension": ".py",
   "mimetype": "text/x-python",
   "name": "python",
   "nbconvert_exporter": "python",
   "pygments_lexer": "ipython3",
   "version": "3.7.1"
  }
 },
 "nbformat": 4,
 "nbformat_minor": 4
}
